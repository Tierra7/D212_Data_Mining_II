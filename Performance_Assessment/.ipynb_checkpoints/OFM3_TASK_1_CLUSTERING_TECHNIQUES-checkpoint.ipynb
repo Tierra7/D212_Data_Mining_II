{
 "cells": [
  {
   "cell_type": "markdown",
   "metadata": {},
   "source": [
    "#### OFM3 — OFM3 TASK 1: CLUSTERING TECHNIQUES"
   ]
  },
  {
   "cell_type": "markdown",
   "metadata": {},
   "source": [
    "<ul>\n",
    "<li>Ryan L. Buchanan</li>\n",
    "<li>Student ID:  001826691</li>\n",
    "<li>Masters Data Analytics (12/01/2020)</li>\n",
    "<li>Program Mentor:  Dan Estes</li>\n",
    "<li>385-432-9281 (MST)</li>\n",
    "<li>rbuch49@wgu.edu</li>\n",
    "</ul>"
   ]
  },
  {
   "cell_type": "markdown",
   "metadata": {},
   "source": [
    "#### Scenario 1\n",
    "One of the most critical factors in customer relationship management that directly affects a company’s long-term profitability is understanding its customers. When a company can better understand its customer characteristics, it is better able to target products and marketing campaigns for customers, resulting in better profits for the company in the long term.\n",
    "\n",
    "You are an analyst for a telecommunications company that wants to better understand the characteristics of its customers. You have been asked to perform a market basket analysis to analyze customer data to identify key associations of your customer purchases, ultimately allowing better business and strategic decision-making."
   ]
  },
  {
   "cell_type": "markdown",
   "metadata": {},
   "source": [
    "#### Part I: Research Question"
   ]
  },
  {
   "cell_type": "markdown",
   "metadata": {},
   "source": [
    "#### <span style=\"color:green\"><b>A1. Proposal of Question</b>:</span>\n",
    "Which principal variables of your customers demonstrate that they are at high risk of churn?  And, therefore, which customers will churn?\n",
    "In other words, can we better understand our customers and identify patterns unique to customers who churn using unsupervised learning data mining?\n",
    "<br>This question will be answered using the <b>K-means</b> clustering technique."
   ]
  },
  {
   "cell_type": "markdown",
   "metadata": {},
   "source": [
    "#### <span style=\"color:green\"><b>A2. Defined Goal</b>:</span>\n",
    "Stakeholders in the company will benefit by knowing, with some measure of confidence, which customers are at highest risk of churn because this will provide weight for decisions in marketing improved services to customers with these characteristics and past user experiences.\n",
    "The goal of this data analysis is to present numerical values to company stakeholders to help them better understand their customers."
   ]
  },
  {
   "cell_type": "markdown",
   "metadata": {},
   "source": [
    "#### Part II: Technique Justification"
   ]
  },
  {
   "cell_type": "markdown",
   "metadata": {},
   "source": [
    "#### <span style=\"color:green\"><b>B1. Explanation of Clustering Technique</b>:</span>\n",
    "    \n",
    "In k-means clustering, we are not trying to predict an outcome <i>y</i> based on an independent variable(s) <i>X</i>.  Broadly, we are trying to identify patterns in our data.  More precisely, how we identify those patterns is to build a dependent variable.  We create it in such a way that each of the values of this future dependent variable are the classes of the dependent variable <span style=\"color:orange\">(SuperDataScience)</span>.  To be clear, there is no dependent variable a priori.  \n",
    "\n",
    "So, we are trying to \"cluster\" our customers in groups based on features for which they share common values, in this case, say income, bandwidth used yearly or tenure with the company, perhaps.  And, as Jeffares concludes, \"\\[a\\] good clustering solution is one that finds clusters such that the observations within each cluster are more similar than the clusters themselves\" <span style=\"color:orange\">(Jeffares, p. 1)</span>.\n",
    "\n",
    "The two clustering techniques given on this task are hierarchical & k-means.  A DataCamp tutorial points out that \"\\[a\\] critical drawback of hierarchical clustering \\[is\\] runtime\" <span style=\"color:orange\">(Daityari, p. 1)</span>. While the dataset we are analyzing is not particularly large, the machine I am using is not particularly new, either.  This is one reason we are using the k-means algorithm. \n",
    "\n",
    "Also, we considered the dataset size and its patterns in order to decide on the k-means over hierarchical.  After all, customer churn is not separating countries soccer matches or about building a dendrogram.  What we need to demonstrate to stakeholders is which groups (clusters) of customers are similar.  And, of course, how similar/different and tightly/loosely clustered are our groups of customers (market segments).\n",
    "\n",
    "This step is the exploratory phase of analysis.  Some trial and error is considered acceptable at this point in the project.  \n",
    "\n",
    "Finally, we do expect to see outcomes such that those customers who have churned may or may not have shorter tenures with the company or perhaps have used fewer of the offered telecom services.  Perhaps we may discover that, using the results of the survey, customers who churned were less satisfied and rated the company's customer service accordingly, while those customers who remained loyal rated customer service more satisfactorily."
   ]
  },
  {
   "cell_type": "markdown",
   "metadata": {},
   "source": [
    "#### <span style=\"color:green\"><b>B2. Summary of Technique Assumption</b>:</span>\n",
    "\n",
    "Our key assumption in K-means clustering is, as VanderPlas points out, that the centroid or \"cluster center\" is the arithmetic mean of all points within or \"belonging to\" a cluster <span style=\"color:orange\">(VanderPlas, p. 463)</span>.\n",
    "\n",
    "Jeffares demonstrates that \"we wish to find the centroid <i>C</i> that minimises\" the distortion.\n",
    "    \n",
    "Where the distortion is a measure of the variability of the observations within each cluster, also called the Within Cluster Sum of Squares (WCSS), <i>J</i>(<i>x</i>) is:\n",
    "\n",
    "$ J(x) = \\sum \\limits _{i=1} ^{m} || x_{i} - C || ^2 $\n",
    "\n",
    "\n",
    "Given the centroid <i>C</i>:  \n",
    "\n",
    "\n",
    "$ C = \\frac {\\sum \\limits _{i=1} ^{m} \\ x_{i}}{ m} $\n",
    "\n",
    "\n",
    "<span style=\"color:orange\">(Jeffares, p. 1).</span>"
   ]
  },
  {
   "cell_type": "markdown",
   "metadata": {},
   "source": [
    "#### <span style=\"color:green\"><b>B3. Packages or Libraries List</b>:</span>\n",
    "\n",
    "The packages or libraries I have chosen for Python include:\n",
    "* Pandas\n",
    "* Numpy\n",
    "* Matplotlib\n",
    "* Seaborn\n",
    "* Scikit-learn\n",
    "* Scipy\n",
    "\n",
    "<br>Pandas, Numpy & Matplotlib are considered standard imports in a data science project, providing methods & statistical packages for reading, scoring & visualizing the data.  More specifically, \"Pandas for reading and writing spreadsheets, Numpy for carrying out efficient computations, \\[and\\]\n",
    "Matplotlib for visualization of data\" (Garbade, p. 1). The Seaborn package provides more descriptive & visually intuitive graphs, matrices & plots.  The Scikit-learn packages efficiently implements methods for splitting, fitting, predicting & applying metrics for many machine learning models. Scipy offers a library for the kmeans algorithm and its methods as well as methods for scaling and normalization.\n",
    "\n",
    "<br>Also, IPython Jupyter notebooks will be used to support this analysis.  Python offers very intuitive, simple & versatile programming style & syntax, as well as a large system of mature packages for data science & machine learning.  Since, Python is cross-platform, it will work well whether consumers of the analysis are using Windows PCs or a MacBook laptop.  It is fast when compared with other possible programming languages like R or MATLAB <span style=\"color:orange\">(Massaron, p. 8)</span>.\n",
    "\n",
    "<br>Also, there is strong support for Python as the most popular data science programming language in popular literature & media <span style=\"color:orange\">(CBTNuggets, p. 1)</span>."
   ]
  },
  {
   "cell_type": "markdown",
   "metadata": {},
   "source": [
    "#### <span style=\"color:green\"><b>C1. Data Preprocessing</b>:</span>\n",
    "A key preprocessing goal we need to consider is whether we have a complete dataset that is without anomlies.  It is also important for our meaningful k-means clustering that we consider whether we should encode as dummy variables those independent binary variables to include them in our analyses.  We have ultimately decided to leave out binary dummy variables for this unsupervised \"classification\" process.  Those variables, such as the very important Churn variable and the significant Age variable, have demonstrated uniform distributions in our scatter plots. However, we have kept the commented out code for future quick reference."
   ]
  },
  {
   "cell_type": "markdown",
   "metadata": {},
   "source": [
    "#### <span style=\"color:green\"><b>C2. Dataset Variables</b>:</span>\n",
    "Initial dataset variables used to perform the analysis are identified and classified as continuous or categorical below.\n",
    "\n",
    "The matrix of features (columns we want to keep to identify patterns) includes all features, accept the four columns of identifying numbers at the beginning of the csv.  Those will be removed during the cleaning process.\n",
    "\n",
    "However, for purposes of visualization we will use Tenure, Churn, Bandwidth_GB_Year and MonthlyCharge."
   ]
  },
  {
   "cell_type": "markdown",
   "metadata": {},
   "source": [
    "#### <span style=\"color:green\"><b>C3. Steps for Analysis</b>:</span>\n",
    "The steps used to prepare the dataset will include:\n",
    "<br>&ensp; 1. Back up my data and the process I am following as a copy to my machine and, since this is a manageable dataset, to GitHub using command line and gitbash.\n",
    "<br>&ensp; 2. Read the dataset into a Python DataFrame using Pandas' read_csv command.\n",
    "<br>&ensp; 3. Evaluate the data structure to better understand input data using info() & describe() methods.\n",
    "<br>&ensp; 4. Naming the dataset as a the variable \"churn_df\" & subsequent useful slices of the dataframe as \"df\".\n",
    "<br>&ensp; 5. Examine potential misspellings, awkward variable naming and missing data.\n",
    "<br>&ensp; 6. Explore descriptive statistics for outliers that may create or hide statistical significance using histograms, box plots and scatter plots.\n",
    "<br>&ensp; 7. Where necessary, impute records missing data with meaningful measures of central tendency (mean, median or mode) or simply remove outliers that are several standard deviations above the mean.\n",
    "<br>&ensp; 8. Remove less meaningful categorical variables from dataset to provide fully numerical dataframe for further analysis.\n",
    "<br>&ensp; 9. Extract cleaned dataset as \"churn_prepared_kmeans.csv\" for use in K-means clustering model.\n",
    "\n",
    "Most relevant to our decision making process is the <b>dependent variable</b> of \"Churn\" which is binary and categorical with only two values, \"Yes\" or \"No\".  \"Churn\" will be our <b>categorical target variable</b>, our <b><i>y</i></b>. \n",
    "\n",
    "<br>In cleaning the data, we may discover relevance in the following <b>continuous predictor variables</b>: \n",
    "* Children\n",
    "* Age\n",
    "* Income\n",
    "* Outage_sec_perweek\n",
    "* Email\n",
    "* Contacts    \n",
    "* Yearly_equip_failure\n",
    "* Tenure (the number of months the customer has stayed with the provider)\n",
    "* MonthlyCharge\n",
    "* Bandwidth_GB_Year    \n",
    "    \n",
    "<br>Likewise, we may discover the relevance of the <b>categorical predictor variables</b> (all binary categorical with only two values, \"Yes\" or \"No\", except where noted). The following will be encoded as dummy variables with 1/0: \n",
    "* Techie: Whether the customer considers themselves technically inclined (based on\n",
    "customer questionnaire when they signed up for services) (yes, no)\n",
    "* Contract: The contract term of the customer (month-to-month, one year, two year)\n",
    "* Port_modem: Whether the customer has a portable modem (yes, no)\n",
    "* Tablet: Whether the customer owns a tablet such as iPad, Surface, etc. (yes, no)\n",
    "* InternetService: Customer’s internet service provider (DSL, fiber optic, None)\n",
    "* Phone: Whether the customer has a phone service (yes, no)\n",
    "* Multiple: Whether the customer has multiple lines (yes, no)\n",
    "* OnlineSecurity: Whether the customer has an online security add-on (yes, no)\n",
    "* OnlineBackup: Whether the customer has an online backup add-on (yes, no)\n",
    "* DeviceProtection: Whether the customer has device protection add-on (yes, no)\n",
    "* TechSupport: Whether the customer has a technical support add-on (yes, no)\n",
    "* StreamingTV: Whether the customer has streaming TV (yes, no)\n",
    "* StreamingMovies: Whether the customer has streaming movies (yes, no)\n",
    "    \n",
    "<br>Finally, our <b>discrete ordinal predictor variables</b> from survey responses of customers regarding various customer service features may be relevant in the decision-making process. In the surveys, customers provided ordinal numerical data by rating eight customer service factors on a scale of 1 to 8 (1 = most important, 8 = least important): \n",
    "    \n",
    "* Item1: Timely response\n",
    "* Item2: Timely fixes\n",
    "* Item3: Timely replacements\n",
    "* Item4: Reliability\n",
    "* Item5: Options\n",
    "* Item6: Respectful response\n",
    "* Item7: Courteous exchange\n",
    "* Item8: Evidence of active listening"
   ]
  },
  {
   "cell_type": "markdown",
   "metadata": {},
   "source": [
    "#### Data preparation"
   ]
  },
  {
   "cell_type": "code",
   "execution_count": 1,
   "metadata": {},
   "outputs": [],
   "source": [
    "# Standard data science imports\n",
    "import numpy as np\n",
    "import pandas as pd\n",
    "from pandas import Series, DataFrame\n",
    "\n",
    "# Visualization libraries\n",
    "import seaborn as sns\n",
    "import matplotlib.pyplot as plt\n",
    "%matplotlib inline\n",
    "\n",
    "# Scikit-learn\n",
    "import sklearn\n",
    "from sklearn import datasets\n",
    "from sklearn import preprocessing\n",
    "from sklearn.neighbors import KNeighborsClassifier\n",
    "from sklearn.model_selection import train_test_split\n",
    "from sklearn import metrics\n",
    "from sklearn.metrics import classification_report\n",
    "\n",
    "# Scipy\n",
    "from scipy.cluster.vq import kmeans, vq"
   ]
  },
  {
   "cell_type": "code",
   "execution_count": 2,
   "metadata": {},
   "outputs": [],
   "source": [
    "# Change color of Matplotlib font\n",
    "import matplotlib as mpl\n",
    "\n",
    "COLOR = 'white'\n",
    "mpl.rcParams['text.color'] = COLOR\n",
    "mpl.rcParams['axes.labelcolor'] = COLOR\n",
    "mpl.rcParams['xtick.color'] = COLOR\n",
    "mpl.rcParams['ytick.color'] = COLOR"
   ]
  },
  {
   "cell_type": "code",
   "execution_count": 3,
   "metadata": {},
   "outputs": [
    {
     "data": {
      "text/html": [
       "<style>.container { width:75% !important; }</style>"
      ],
      "text/plain": [
       "<IPython.core.display.HTML object>"
      ]
     },
     "metadata": {},
     "output_type": "display_data"
    }
   ],
   "source": [
    "# Increase Jupyter display cell-width\n",
    "from IPython.core.display import display, HTML\n",
    "display(HTML(\"<style>.container { width:75% !important; }</style>\"))"
   ]
  },
  {
   "cell_type": "code",
   "execution_count": 4,
   "metadata": {},
   "outputs": [],
   "source": [
    "# Ignore Warning Code\n",
    "import warnings\n",
    "warnings.filterwarnings('ignore')"
   ]
  },
  {
   "cell_type": "code",
   "execution_count": 5,
   "metadata": {},
   "outputs": [],
   "source": [
    "# Load data set into Pandas dataframe\n",
    "churn_df = pd.read_csv('data/churn_clean.csv')"
   ]
  },
  {
   "cell_type": "code",
   "execution_count": 6,
   "metadata": {},
   "outputs": [
    {
     "data": {
      "text/plain": [
       "(10000, 50)"
      ]
     },
     "execution_count": 6,
     "metadata": {},
     "output_type": "execute_result"
    }
   ],
   "source": [
    "# Get an idea of dataset size\n",
    "churn_df.shape"
   ]
  },
  {
   "cell_type": "code",
   "execution_count": 7,
   "metadata": {
    "scrolled": true
   },
   "outputs": [
    {
     "data": {
      "text/plain": [
       "Index(['CaseOrder', 'Customer_id', 'Interaction', 'UID', 'City', 'State',\n",
       "       'County', 'Zip', 'Lat', 'Lng', 'Population', 'Area', 'TimeZone', 'Job',\n",
       "       'Children', 'Age', 'Income', 'Marital', 'Gender', 'Churn',\n",
       "       'Outage_sec_perweek', 'Email', 'Contacts', 'Yearly_equip_failure',\n",
       "       'Techie', 'Contract', 'Port_modem', 'Tablet', 'InternetService',\n",
       "       'Phone', 'Multiple', 'OnlineSecurity', 'OnlineBackup',\n",
       "       'DeviceProtection', 'TechSupport', 'StreamingTV', 'StreamingMovies',\n",
       "       'PaperlessBilling', 'PaymentMethod', 'Tenure', 'MonthlyCharge',\n",
       "       'Bandwidth_GB_Year', 'Item1', 'Item2', 'Item3', 'Item4', 'Item5',\n",
       "       'Item6', 'Item7', 'Item8'],\n",
       "      dtype='object')"
      ]
     },
     "execution_count": 7,
     "metadata": {},
     "output_type": "execute_result"
    }
   ],
   "source": [
    "# Examine the features of the dataset\n",
    "churn_df.columns"
   ]
  },
  {
   "cell_type": "code",
   "execution_count": 8,
   "metadata": {},
   "outputs": [
    {
     "data": {
      "text/plain": [
       "<bound method DataFrame.info of       CaseOrder Customer_id                           Interaction  \\\n",
       "0             1     K409198  aa90260b-4141-4a24-8e36-b04ce1f4f77b   \n",
       "1             2     S120509  fb76459f-c047-4a9d-8af9-e0f7d4ac2524   \n",
       "2             3     K191035  344d114c-3736-4be5-98f7-c72c281e2d35   \n",
       "3             4      D90850  abfa2b40-2d43-4994-b15a-989b8c79e311   \n",
       "4             5     K662701  68a861fd-0d20-4e51-a587-8a90407ee574   \n",
       "...         ...         ...                                   ...   \n",
       "9995       9996     M324793  45deb5a2-ae04-4518-bf0b-c82db8dbe4a4   \n",
       "9996       9997     D861732  6e96b921-0c09-4993-bbda-a1ac6411061a   \n",
       "9997       9998     I243405  e8307ddf-9a01-4fff-bc59-4742e03fd24f   \n",
       "9998       9999     I641617  3775ccfc-0052-4107-81ae-9657f81ecdf3   \n",
       "9999      10000      T38070  9de5fb6e-bd33-4995-aec8-f01d0172a499   \n",
       "\n",
       "                                   UID          City State  \\\n",
       "0     e885b299883d4f9fb18e39c75155d990   Point Baker    AK   \n",
       "1     f2de8bef964785f41a2959829830fb8a   West Branch    MI   \n",
       "2     f1784cfa9f6d92ae816197eb175d3c71       Yamhill    OR   \n",
       "3     dc8a365077241bb5cd5ccd305136b05e       Del Mar    CA   \n",
       "4     aabb64a116e83fdc4befc1fbab1663f9     Needville    TX   \n",
       "...                                ...           ...   ...   \n",
       "9995  9499fb4de537af195d16d046b79fd20a   Mount Holly    VT   \n",
       "9996  c09a841117fa81b5c8e19afec2760104   Clarksville    TN   \n",
       "9997  9c41f212d1e04dca84445019bbc9b41c      Mobeetie    TX   \n",
       "9998  3e1f269b40c235a1038863ecf6b7a0df    Carrollton    GA   \n",
       "9999  0ea683a03a3cd544aefe8388aab16176  Clarkesville    GA   \n",
       "\n",
       "                     County    Zip       Lat        Lng  ...  MonthlyCharge  \\\n",
       "0     Prince of Wales-Hyder  99927  56.25100 -133.37571  ...     172.455519   \n",
       "1                    Ogemaw  48661  44.32893  -84.24080  ...     242.632554   \n",
       "2                   Yamhill  97148  45.35589 -123.24657  ...     159.947583   \n",
       "3                 San Diego  92014  32.96687 -117.24798  ...     119.956840   \n",
       "4                 Fort Bend  77461  29.38012  -95.80673  ...     149.948316   \n",
       "...                     ...    ...       ...        ...  ...            ...   \n",
       "9995                Rutland   5758  43.43391  -72.78734  ...     159.979400   \n",
       "9996             Montgomery  37042  36.56907  -87.41694  ...     207.481100   \n",
       "9997                Wheeler  79061  35.52039 -100.44180  ...     169.974100   \n",
       "9998                Carroll  30117  33.58016  -85.13241  ...     252.624000   \n",
       "9999              Habersham  30523  34.70783  -83.53648  ...     217.484000   \n",
       "\n",
       "     Bandwidth_GB_Year Item1 Item2  Item3  Item4  Item5 Item6 Item7 Item8  \n",
       "0           904.536110     5     5      5      3      4     4     3     4  \n",
       "1           800.982766     3     4      3      3      4     3     4     4  \n",
       "2          2054.706961     4     4      2      4      4     3     3     3  \n",
       "3          2164.579412     4     4      4      2      5     4     3     3  \n",
       "4           271.493436     4     4      4      3      4     4     4     5  \n",
       "...                ...   ...   ...    ...    ...    ...   ...   ...   ...  \n",
       "9995       6511.252601     3     2      3      3      4     3     2     3  \n",
       "9996       5695.951810     4     5      5      4      4     5     2     5  \n",
       "9997       4159.305799     4     4      4      4      4     4     4     5  \n",
       "9998       6468.456752     4     4      6      4      3     3     5     4  \n",
       "9999       5857.586167     2     2      3      3      3     3     4     1  \n",
       "\n",
       "[10000 rows x 50 columns]>"
      ]
     },
     "execution_count": 8,
     "metadata": {},
     "output_type": "execute_result"
    }
   ],
   "source": [
    "# View DataFrame info\n",
    "churn_df.info"
   ]
  },
  {
   "cell_type": "code",
   "execution_count": 9,
   "metadata": {},
   "outputs": [
    {
     "data": {
      "text/plain": [
       "CaseOrder                 int64\n",
       "Customer_id              object\n",
       "Interaction              object\n",
       "UID                      object\n",
       "City                     object\n",
       "State                    object\n",
       "County                   object\n",
       "Zip                       int64\n",
       "Lat                     float64\n",
       "Lng                     float64\n",
       "Population                int64\n",
       "Area                     object\n",
       "TimeZone                 object\n",
       "Job                      object\n",
       "Children                  int64\n",
       "Age                       int64\n",
       "Income                  float64\n",
       "Marital                  object\n",
       "Gender                   object\n",
       "Churn                    object\n",
       "Outage_sec_perweek      float64\n",
       "Email                     int64\n",
       "Contacts                  int64\n",
       "Yearly_equip_failure      int64\n",
       "Techie                   object\n",
       "Contract                 object\n",
       "Port_modem               object\n",
       "Tablet                   object\n",
       "InternetService          object\n",
       "Phone                    object\n",
       "Multiple                 object\n",
       "OnlineSecurity           object\n",
       "OnlineBackup             object\n",
       "DeviceProtection         object\n",
       "TechSupport              object\n",
       "StreamingTV              object\n",
       "StreamingMovies          object\n",
       "PaperlessBilling         object\n",
       "PaymentMethod            object\n",
       "Tenure                  float64\n",
       "MonthlyCharge           float64\n",
       "Bandwidth_GB_Year       float64\n",
       "Item1                     int64\n",
       "Item2                     int64\n",
       "Item3                     int64\n",
       "Item4                     int64\n",
       "Item5                     int64\n",
       "Item6                     int64\n",
       "Item7                     int64\n",
       "Item8                     int64\n",
       "dtype: object"
      ]
     },
     "execution_count": 9,
     "metadata": {},
     "output_type": "execute_result"
    }
   ],
   "source": [
    "# Get data types of features\n",
    "churn_df.dtypes"
   ]
  },
  {
   "cell_type": "code",
   "execution_count": 10,
   "metadata": {},
   "outputs": [
    {
     "data": {
      "text/html": [
       "<div>\n",
       "<style scoped>\n",
       "    .dataframe tbody tr th:only-of-type {\n",
       "        vertical-align: middle;\n",
       "    }\n",
       "\n",
       "    .dataframe tbody tr th {\n",
       "        vertical-align: top;\n",
       "    }\n",
       "\n",
       "    .dataframe thead th {\n",
       "        text-align: right;\n",
       "    }\n",
       "</style>\n",
       "<table border=\"1\" class=\"dataframe\">\n",
       "  <thead>\n",
       "    <tr style=\"text-align: right;\">\n",
       "      <th></th>\n",
       "      <th>CaseOrder</th>\n",
       "      <th>Customer_id</th>\n",
       "      <th>Interaction</th>\n",
       "      <th>UID</th>\n",
       "      <th>City</th>\n",
       "      <th>State</th>\n",
       "      <th>County</th>\n",
       "      <th>Zip</th>\n",
       "      <th>Lat</th>\n",
       "      <th>Lng</th>\n",
       "      <th>...</th>\n",
       "      <th>MonthlyCharge</th>\n",
       "      <th>Bandwidth_GB_Year</th>\n",
       "      <th>Item1</th>\n",
       "      <th>Item2</th>\n",
       "      <th>Item3</th>\n",
       "      <th>Item4</th>\n",
       "      <th>Item5</th>\n",
       "      <th>Item6</th>\n",
       "      <th>Item7</th>\n",
       "      <th>Item8</th>\n",
       "    </tr>\n",
       "  </thead>\n",
       "  <tbody>\n",
       "    <tr>\n",
       "      <th>0</th>\n",
       "      <td>1</td>\n",
       "      <td>K409198</td>\n",
       "      <td>aa90260b-4141-4a24-8e36-b04ce1f4f77b</td>\n",
       "      <td>e885b299883d4f9fb18e39c75155d990</td>\n",
       "      <td>Point Baker</td>\n",
       "      <td>AK</td>\n",
       "      <td>Prince of Wales-Hyder</td>\n",
       "      <td>99927</td>\n",
       "      <td>56.25100</td>\n",
       "      <td>-133.37571</td>\n",
       "      <td>...</td>\n",
       "      <td>172.455519</td>\n",
       "      <td>904.536110</td>\n",
       "      <td>5</td>\n",
       "      <td>5</td>\n",
       "      <td>5</td>\n",
       "      <td>3</td>\n",
       "      <td>4</td>\n",
       "      <td>4</td>\n",
       "      <td>3</td>\n",
       "      <td>4</td>\n",
       "    </tr>\n",
       "    <tr>\n",
       "      <th>1</th>\n",
       "      <td>2</td>\n",
       "      <td>S120509</td>\n",
       "      <td>fb76459f-c047-4a9d-8af9-e0f7d4ac2524</td>\n",
       "      <td>f2de8bef964785f41a2959829830fb8a</td>\n",
       "      <td>West Branch</td>\n",
       "      <td>MI</td>\n",
       "      <td>Ogemaw</td>\n",
       "      <td>48661</td>\n",
       "      <td>44.32893</td>\n",
       "      <td>-84.24080</td>\n",
       "      <td>...</td>\n",
       "      <td>242.632554</td>\n",
       "      <td>800.982766</td>\n",
       "      <td>3</td>\n",
       "      <td>4</td>\n",
       "      <td>3</td>\n",
       "      <td>3</td>\n",
       "      <td>4</td>\n",
       "      <td>3</td>\n",
       "      <td>4</td>\n",
       "      <td>4</td>\n",
       "    </tr>\n",
       "    <tr>\n",
       "      <th>2</th>\n",
       "      <td>3</td>\n",
       "      <td>K191035</td>\n",
       "      <td>344d114c-3736-4be5-98f7-c72c281e2d35</td>\n",
       "      <td>f1784cfa9f6d92ae816197eb175d3c71</td>\n",
       "      <td>Yamhill</td>\n",
       "      <td>OR</td>\n",
       "      <td>Yamhill</td>\n",
       "      <td>97148</td>\n",
       "      <td>45.35589</td>\n",
       "      <td>-123.24657</td>\n",
       "      <td>...</td>\n",
       "      <td>159.947583</td>\n",
       "      <td>2054.706961</td>\n",
       "      <td>4</td>\n",
       "      <td>4</td>\n",
       "      <td>2</td>\n",
       "      <td>4</td>\n",
       "      <td>4</td>\n",
       "      <td>3</td>\n",
       "      <td>3</td>\n",
       "      <td>3</td>\n",
       "    </tr>\n",
       "    <tr>\n",
       "      <th>3</th>\n",
       "      <td>4</td>\n",
       "      <td>D90850</td>\n",
       "      <td>abfa2b40-2d43-4994-b15a-989b8c79e311</td>\n",
       "      <td>dc8a365077241bb5cd5ccd305136b05e</td>\n",
       "      <td>Del Mar</td>\n",
       "      <td>CA</td>\n",
       "      <td>San Diego</td>\n",
       "      <td>92014</td>\n",
       "      <td>32.96687</td>\n",
       "      <td>-117.24798</td>\n",
       "      <td>...</td>\n",
       "      <td>119.956840</td>\n",
       "      <td>2164.579412</td>\n",
       "      <td>4</td>\n",
       "      <td>4</td>\n",
       "      <td>4</td>\n",
       "      <td>2</td>\n",
       "      <td>5</td>\n",
       "      <td>4</td>\n",
       "      <td>3</td>\n",
       "      <td>3</td>\n",
       "    </tr>\n",
       "    <tr>\n",
       "      <th>4</th>\n",
       "      <td>5</td>\n",
       "      <td>K662701</td>\n",
       "      <td>68a861fd-0d20-4e51-a587-8a90407ee574</td>\n",
       "      <td>aabb64a116e83fdc4befc1fbab1663f9</td>\n",
       "      <td>Needville</td>\n",
       "      <td>TX</td>\n",
       "      <td>Fort Bend</td>\n",
       "      <td>77461</td>\n",
       "      <td>29.38012</td>\n",
       "      <td>-95.80673</td>\n",
       "      <td>...</td>\n",
       "      <td>149.948316</td>\n",
       "      <td>271.493436</td>\n",
       "      <td>4</td>\n",
       "      <td>4</td>\n",
       "      <td>4</td>\n",
       "      <td>3</td>\n",
       "      <td>4</td>\n",
       "      <td>4</td>\n",
       "      <td>4</td>\n",
       "      <td>5</td>\n",
       "    </tr>\n",
       "  </tbody>\n",
       "</table>\n",
       "<p>5 rows × 50 columns</p>\n",
       "</div>"
      ],
      "text/plain": [
       "   CaseOrder Customer_id                           Interaction  \\\n",
       "0          1     K409198  aa90260b-4141-4a24-8e36-b04ce1f4f77b   \n",
       "1          2     S120509  fb76459f-c047-4a9d-8af9-e0f7d4ac2524   \n",
       "2          3     K191035  344d114c-3736-4be5-98f7-c72c281e2d35   \n",
       "3          4      D90850  abfa2b40-2d43-4994-b15a-989b8c79e311   \n",
       "4          5     K662701  68a861fd-0d20-4e51-a587-8a90407ee574   \n",
       "\n",
       "                                UID         City State                 County  \\\n",
       "0  e885b299883d4f9fb18e39c75155d990  Point Baker    AK  Prince of Wales-Hyder   \n",
       "1  f2de8bef964785f41a2959829830fb8a  West Branch    MI                 Ogemaw   \n",
       "2  f1784cfa9f6d92ae816197eb175d3c71      Yamhill    OR                Yamhill   \n",
       "3  dc8a365077241bb5cd5ccd305136b05e      Del Mar    CA              San Diego   \n",
       "4  aabb64a116e83fdc4befc1fbab1663f9    Needville    TX              Fort Bend   \n",
       "\n",
       "     Zip       Lat        Lng  ...  MonthlyCharge Bandwidth_GB_Year Item1  \\\n",
       "0  99927  56.25100 -133.37571  ...     172.455519        904.536110     5   \n",
       "1  48661  44.32893  -84.24080  ...     242.632554        800.982766     3   \n",
       "2  97148  45.35589 -123.24657  ...     159.947583       2054.706961     4   \n",
       "3  92014  32.96687 -117.24798  ...     119.956840       2164.579412     4   \n",
       "4  77461  29.38012  -95.80673  ...     149.948316        271.493436     4   \n",
       "\n",
       "  Item2  Item3  Item4  Item5 Item6 Item7 Item8  \n",
       "0     5      5      3      4     4     3     4  \n",
       "1     4      3      3      4     3     4     4  \n",
       "2     4      2      4      4     3     3     3  \n",
       "3     4      4      2      5     4     3     3  \n",
       "4     4      4      3      4     4     4     5  \n",
       "\n",
       "[5 rows x 50 columns]"
      ]
     },
     "execution_count": 10,
     "metadata": {},
     "output_type": "execute_result"
    }
   ],
   "source": [
    "# Examine first few records of dataset\n",
    "churn_df.head()"
   ]
  },
  {
   "cell_type": "code",
   "execution_count": 11,
   "metadata": {},
   "outputs": [
    {
     "data": {
      "text/html": [
       "<div>\n",
       "<style scoped>\n",
       "    .dataframe tbody tr th:only-of-type {\n",
       "        vertical-align: middle;\n",
       "    }\n",
       "\n",
       "    .dataframe tbody tr th {\n",
       "        vertical-align: top;\n",
       "    }\n",
       "\n",
       "    .dataframe thead th {\n",
       "        text-align: right;\n",
       "    }\n",
       "</style>\n",
       "<table border=\"1\" class=\"dataframe\">\n",
       "  <thead>\n",
       "    <tr style=\"text-align: right;\">\n",
       "      <th></th>\n",
       "      <th>CaseOrder</th>\n",
       "      <th>Zip</th>\n",
       "      <th>Lat</th>\n",
       "      <th>Lng</th>\n",
       "      <th>Population</th>\n",
       "      <th>Children</th>\n",
       "      <th>Age</th>\n",
       "      <th>Income</th>\n",
       "      <th>Outage_sec_perweek</th>\n",
       "      <th>Email</th>\n",
       "      <th>...</th>\n",
       "      <th>MonthlyCharge</th>\n",
       "      <th>Bandwidth_GB_Year</th>\n",
       "      <th>Item1</th>\n",
       "      <th>Item2</th>\n",
       "      <th>Item3</th>\n",
       "      <th>Item4</th>\n",
       "      <th>Item5</th>\n",
       "      <th>Item6</th>\n",
       "      <th>Item7</th>\n",
       "      <th>Item8</th>\n",
       "    </tr>\n",
       "  </thead>\n",
       "  <tbody>\n",
       "    <tr>\n",
       "      <th>count</th>\n",
       "      <td>10000.00000</td>\n",
       "      <td>10000.000000</td>\n",
       "      <td>10000.000000</td>\n",
       "      <td>10000.000000</td>\n",
       "      <td>10000.000000</td>\n",
       "      <td>10000.0000</td>\n",
       "      <td>10000.000000</td>\n",
       "      <td>10000.000000</td>\n",
       "      <td>10000.000000</td>\n",
       "      <td>10000.000000</td>\n",
       "      <td>...</td>\n",
       "      <td>10000.000000</td>\n",
       "      <td>10000.000000</td>\n",
       "      <td>10000.000000</td>\n",
       "      <td>10000.000000</td>\n",
       "      <td>10000.000000</td>\n",
       "      <td>10000.000000</td>\n",
       "      <td>10000.000000</td>\n",
       "      <td>10000.000000</td>\n",
       "      <td>10000.000000</td>\n",
       "      <td>10000.000000</td>\n",
       "    </tr>\n",
       "    <tr>\n",
       "      <th>mean</th>\n",
       "      <td>5000.50000</td>\n",
       "      <td>49153.319600</td>\n",
       "      <td>38.757567</td>\n",
       "      <td>-90.782536</td>\n",
       "      <td>9756.562400</td>\n",
       "      <td>2.0877</td>\n",
       "      <td>53.078400</td>\n",
       "      <td>39806.926771</td>\n",
       "      <td>10.001848</td>\n",
       "      <td>12.016000</td>\n",
       "      <td>...</td>\n",
       "      <td>172.624816</td>\n",
       "      <td>3392.341550</td>\n",
       "      <td>3.490800</td>\n",
       "      <td>3.505100</td>\n",
       "      <td>3.487000</td>\n",
       "      <td>3.497500</td>\n",
       "      <td>3.492900</td>\n",
       "      <td>3.497300</td>\n",
       "      <td>3.509500</td>\n",
       "      <td>3.495600</td>\n",
       "    </tr>\n",
       "    <tr>\n",
       "      <th>std</th>\n",
       "      <td>2886.89568</td>\n",
       "      <td>27532.196108</td>\n",
       "      <td>5.437389</td>\n",
       "      <td>15.156142</td>\n",
       "      <td>14432.698671</td>\n",
       "      <td>2.1472</td>\n",
       "      <td>20.698882</td>\n",
       "      <td>28199.916702</td>\n",
       "      <td>2.976019</td>\n",
       "      <td>3.025898</td>\n",
       "      <td>...</td>\n",
       "      <td>42.943094</td>\n",
       "      <td>2185.294852</td>\n",
       "      <td>1.037797</td>\n",
       "      <td>1.034641</td>\n",
       "      <td>1.027977</td>\n",
       "      <td>1.025816</td>\n",
       "      <td>1.024819</td>\n",
       "      <td>1.033586</td>\n",
       "      <td>1.028502</td>\n",
       "      <td>1.028633</td>\n",
       "    </tr>\n",
       "    <tr>\n",
       "      <th>min</th>\n",
       "      <td>1.00000</td>\n",
       "      <td>601.000000</td>\n",
       "      <td>17.966120</td>\n",
       "      <td>-171.688150</td>\n",
       "      <td>0.000000</td>\n",
       "      <td>0.0000</td>\n",
       "      <td>18.000000</td>\n",
       "      <td>348.670000</td>\n",
       "      <td>0.099747</td>\n",
       "      <td>1.000000</td>\n",
       "      <td>...</td>\n",
       "      <td>79.978860</td>\n",
       "      <td>155.506715</td>\n",
       "      <td>1.000000</td>\n",
       "      <td>1.000000</td>\n",
       "      <td>1.000000</td>\n",
       "      <td>1.000000</td>\n",
       "      <td>1.000000</td>\n",
       "      <td>1.000000</td>\n",
       "      <td>1.000000</td>\n",
       "      <td>1.000000</td>\n",
       "    </tr>\n",
       "    <tr>\n",
       "      <th>25%</th>\n",
       "      <td>2500.75000</td>\n",
       "      <td>26292.500000</td>\n",
       "      <td>35.341828</td>\n",
       "      <td>-97.082813</td>\n",
       "      <td>738.000000</td>\n",
       "      <td>0.0000</td>\n",
       "      <td>35.000000</td>\n",
       "      <td>19224.717500</td>\n",
       "      <td>8.018214</td>\n",
       "      <td>10.000000</td>\n",
       "      <td>...</td>\n",
       "      <td>139.979239</td>\n",
       "      <td>1236.470827</td>\n",
       "      <td>3.000000</td>\n",
       "      <td>3.000000</td>\n",
       "      <td>3.000000</td>\n",
       "      <td>3.000000</td>\n",
       "      <td>3.000000</td>\n",
       "      <td>3.000000</td>\n",
       "      <td>3.000000</td>\n",
       "      <td>3.000000</td>\n",
       "    </tr>\n",
       "    <tr>\n",
       "      <th>50%</th>\n",
       "      <td>5000.50000</td>\n",
       "      <td>48869.500000</td>\n",
       "      <td>39.395800</td>\n",
       "      <td>-87.918800</td>\n",
       "      <td>2910.500000</td>\n",
       "      <td>1.0000</td>\n",
       "      <td>53.000000</td>\n",
       "      <td>33170.605000</td>\n",
       "      <td>10.018560</td>\n",
       "      <td>12.000000</td>\n",
       "      <td>...</td>\n",
       "      <td>167.484700</td>\n",
       "      <td>3279.536903</td>\n",
       "      <td>3.000000</td>\n",
       "      <td>4.000000</td>\n",
       "      <td>3.000000</td>\n",
       "      <td>3.000000</td>\n",
       "      <td>3.000000</td>\n",
       "      <td>3.000000</td>\n",
       "      <td>4.000000</td>\n",
       "      <td>3.000000</td>\n",
       "    </tr>\n",
       "    <tr>\n",
       "      <th>75%</th>\n",
       "      <td>7500.25000</td>\n",
       "      <td>71866.500000</td>\n",
       "      <td>42.106908</td>\n",
       "      <td>-80.088745</td>\n",
       "      <td>13168.000000</td>\n",
       "      <td>3.0000</td>\n",
       "      <td>71.000000</td>\n",
       "      <td>53246.170000</td>\n",
       "      <td>11.969485</td>\n",
       "      <td>14.000000</td>\n",
       "      <td>...</td>\n",
       "      <td>200.734725</td>\n",
       "      <td>5586.141369</td>\n",
       "      <td>4.000000</td>\n",
       "      <td>4.000000</td>\n",
       "      <td>4.000000</td>\n",
       "      <td>4.000000</td>\n",
       "      <td>4.000000</td>\n",
       "      <td>4.000000</td>\n",
       "      <td>4.000000</td>\n",
       "      <td>4.000000</td>\n",
       "    </tr>\n",
       "    <tr>\n",
       "      <th>max</th>\n",
       "      <td>10000.00000</td>\n",
       "      <td>99929.000000</td>\n",
       "      <td>70.640660</td>\n",
       "      <td>-65.667850</td>\n",
       "      <td>111850.000000</td>\n",
       "      <td>10.0000</td>\n",
       "      <td>89.000000</td>\n",
       "      <td>258900.700000</td>\n",
       "      <td>21.207230</td>\n",
       "      <td>23.000000</td>\n",
       "      <td>...</td>\n",
       "      <td>290.160419</td>\n",
       "      <td>7158.981530</td>\n",
       "      <td>7.000000</td>\n",
       "      <td>7.000000</td>\n",
       "      <td>8.000000</td>\n",
       "      <td>7.000000</td>\n",
       "      <td>7.000000</td>\n",
       "      <td>8.000000</td>\n",
       "      <td>7.000000</td>\n",
       "      <td>8.000000</td>\n",
       "    </tr>\n",
       "  </tbody>\n",
       "</table>\n",
       "<p>8 rows × 23 columns</p>\n",
       "</div>"
      ],
      "text/plain": [
       "         CaseOrder           Zip           Lat           Lng     Population  \\\n",
       "count  10000.00000  10000.000000  10000.000000  10000.000000   10000.000000   \n",
       "mean    5000.50000  49153.319600     38.757567    -90.782536    9756.562400   \n",
       "std     2886.89568  27532.196108      5.437389     15.156142   14432.698671   \n",
       "min        1.00000    601.000000     17.966120   -171.688150       0.000000   \n",
       "25%     2500.75000  26292.500000     35.341828    -97.082813     738.000000   \n",
       "50%     5000.50000  48869.500000     39.395800    -87.918800    2910.500000   \n",
       "75%     7500.25000  71866.500000     42.106908    -80.088745   13168.000000   \n",
       "max    10000.00000  99929.000000     70.640660    -65.667850  111850.000000   \n",
       "\n",
       "         Children           Age         Income  Outage_sec_perweek  \\\n",
       "count  10000.0000  10000.000000   10000.000000        10000.000000   \n",
       "mean       2.0877     53.078400   39806.926771           10.001848   \n",
       "std        2.1472     20.698882   28199.916702            2.976019   \n",
       "min        0.0000     18.000000     348.670000            0.099747   \n",
       "25%        0.0000     35.000000   19224.717500            8.018214   \n",
       "50%        1.0000     53.000000   33170.605000           10.018560   \n",
       "75%        3.0000     71.000000   53246.170000           11.969485   \n",
       "max       10.0000     89.000000  258900.700000           21.207230   \n",
       "\n",
       "              Email  ...  MonthlyCharge  Bandwidth_GB_Year         Item1  \\\n",
       "count  10000.000000  ...   10000.000000       10000.000000  10000.000000   \n",
       "mean      12.016000  ...     172.624816        3392.341550      3.490800   \n",
       "std        3.025898  ...      42.943094        2185.294852      1.037797   \n",
       "min        1.000000  ...      79.978860         155.506715      1.000000   \n",
       "25%       10.000000  ...     139.979239        1236.470827      3.000000   \n",
       "50%       12.000000  ...     167.484700        3279.536903      3.000000   \n",
       "75%       14.000000  ...     200.734725        5586.141369      4.000000   \n",
       "max       23.000000  ...     290.160419        7158.981530      7.000000   \n",
       "\n",
       "              Item2         Item3         Item4         Item5         Item6  \\\n",
       "count  10000.000000  10000.000000  10000.000000  10000.000000  10000.000000   \n",
       "mean       3.505100      3.487000      3.497500      3.492900      3.497300   \n",
       "std        1.034641      1.027977      1.025816      1.024819      1.033586   \n",
       "min        1.000000      1.000000      1.000000      1.000000      1.000000   \n",
       "25%        3.000000      3.000000      3.000000      3.000000      3.000000   \n",
       "50%        4.000000      3.000000      3.000000      3.000000      3.000000   \n",
       "75%        4.000000      4.000000      4.000000      4.000000      4.000000   \n",
       "max        7.000000      8.000000      7.000000      7.000000      8.000000   \n",
       "\n",
       "              Item7         Item8  \n",
       "count  10000.000000  10000.000000  \n",
       "mean       3.509500      3.495600  \n",
       "std        1.028502      1.028633  \n",
       "min        1.000000      1.000000  \n",
       "25%        3.000000      3.000000  \n",
       "50%        4.000000      3.000000  \n",
       "75%        4.000000      4.000000  \n",
       "max        7.000000      8.000000  \n",
       "\n",
       "[8 rows x 23 columns]"
      ]
     },
     "execution_count": 11,
     "metadata": {},
     "output_type": "execute_result"
    }
   ],
   "source": [
    "# Get an overview of descriptive statistics\n",
    "churn_df.describe()"
   ]
  },
  {
   "cell_type": "code",
   "execution_count": 12,
   "metadata": {},
   "outputs": [],
   "source": [
    "# Remove less relevant categorical variables from dataset\n",
    "churn_df = churn_df.drop(columns=['CaseOrder', 'Customer_id', 'Interaction', 'UID'])"
   ]
  },
  {
   "cell_type": "code",
   "execution_count": 13,
   "metadata": {},
   "outputs": [],
   "source": [
    "# Rename last 8 survey columns for better description of variables\n",
    "churn_df.rename(columns = {'Item1':'TimelyResponse', \n",
    "                    'Item2':'Fixes', \n",
    "                     'Item3':'Replacements', \n",
    "                     'Item4':'Reliability', \n",
    "                     'Item5':'Options', \n",
    "                     'Item6':'Respectfulness', \n",
    "                     'Item7':'Courteous', \n",
    "                     'Item8':'Listening'}, \n",
    "          inplace=True)"
   ]
  },
  {
   "cell_type": "code",
   "execution_count": 14,
   "metadata": {},
   "outputs": [
    {
     "data": {
      "text/html": [
       "<div>\n",
       "<style scoped>\n",
       "    .dataframe tbody tr th:only-of-type {\n",
       "        vertical-align: middle;\n",
       "    }\n",
       "\n",
       "    .dataframe tbody tr th {\n",
       "        vertical-align: top;\n",
       "    }\n",
       "\n",
       "    .dataframe thead th {\n",
       "        text-align: right;\n",
       "    }\n",
       "</style>\n",
       "<table border=\"1\" class=\"dataframe\">\n",
       "  <thead>\n",
       "    <tr style=\"text-align: right;\">\n",
       "      <th></th>\n",
       "      <th>City</th>\n",
       "      <th>State</th>\n",
       "      <th>County</th>\n",
       "      <th>Zip</th>\n",
       "      <th>Lat</th>\n",
       "      <th>Lng</th>\n",
       "      <th>Population</th>\n",
       "      <th>Area</th>\n",
       "      <th>TimeZone</th>\n",
       "      <th>Job</th>\n",
       "      <th>...</th>\n",
       "      <th>MonthlyCharge</th>\n",
       "      <th>Bandwidth_GB_Year</th>\n",
       "      <th>TimelyResponse</th>\n",
       "      <th>Fixes</th>\n",
       "      <th>Replacements</th>\n",
       "      <th>Reliability</th>\n",
       "      <th>Options</th>\n",
       "      <th>Respectfulness</th>\n",
       "      <th>Courteous</th>\n",
       "      <th>Listening</th>\n",
       "    </tr>\n",
       "  </thead>\n",
       "  <tbody>\n",
       "    <tr>\n",
       "      <th>0</th>\n",
       "      <td>Point Baker</td>\n",
       "      <td>AK</td>\n",
       "      <td>Prince of Wales-Hyder</td>\n",
       "      <td>99927</td>\n",
       "      <td>56.25100</td>\n",
       "      <td>-133.37571</td>\n",
       "      <td>38</td>\n",
       "      <td>Urban</td>\n",
       "      <td>America/Sitka</td>\n",
       "      <td>Environmental health practitioner</td>\n",
       "      <td>...</td>\n",
       "      <td>172.455519</td>\n",
       "      <td>904.536110</td>\n",
       "      <td>5</td>\n",
       "      <td>5</td>\n",
       "      <td>5</td>\n",
       "      <td>3</td>\n",
       "      <td>4</td>\n",
       "      <td>4</td>\n",
       "      <td>3</td>\n",
       "      <td>4</td>\n",
       "    </tr>\n",
       "    <tr>\n",
       "      <th>1</th>\n",
       "      <td>West Branch</td>\n",
       "      <td>MI</td>\n",
       "      <td>Ogemaw</td>\n",
       "      <td>48661</td>\n",
       "      <td>44.32893</td>\n",
       "      <td>-84.24080</td>\n",
       "      <td>10446</td>\n",
       "      <td>Urban</td>\n",
       "      <td>America/Detroit</td>\n",
       "      <td>Programmer, multimedia</td>\n",
       "      <td>...</td>\n",
       "      <td>242.632554</td>\n",
       "      <td>800.982766</td>\n",
       "      <td>3</td>\n",
       "      <td>4</td>\n",
       "      <td>3</td>\n",
       "      <td>3</td>\n",
       "      <td>4</td>\n",
       "      <td>3</td>\n",
       "      <td>4</td>\n",
       "      <td>4</td>\n",
       "    </tr>\n",
       "    <tr>\n",
       "      <th>2</th>\n",
       "      <td>Yamhill</td>\n",
       "      <td>OR</td>\n",
       "      <td>Yamhill</td>\n",
       "      <td>97148</td>\n",
       "      <td>45.35589</td>\n",
       "      <td>-123.24657</td>\n",
       "      <td>3735</td>\n",
       "      <td>Urban</td>\n",
       "      <td>America/Los_Angeles</td>\n",
       "      <td>Chief Financial Officer</td>\n",
       "      <td>...</td>\n",
       "      <td>159.947583</td>\n",
       "      <td>2054.706961</td>\n",
       "      <td>4</td>\n",
       "      <td>4</td>\n",
       "      <td>2</td>\n",
       "      <td>4</td>\n",
       "      <td>4</td>\n",
       "      <td>3</td>\n",
       "      <td>3</td>\n",
       "      <td>3</td>\n",
       "    </tr>\n",
       "    <tr>\n",
       "      <th>3</th>\n",
       "      <td>Del Mar</td>\n",
       "      <td>CA</td>\n",
       "      <td>San Diego</td>\n",
       "      <td>92014</td>\n",
       "      <td>32.96687</td>\n",
       "      <td>-117.24798</td>\n",
       "      <td>13863</td>\n",
       "      <td>Suburban</td>\n",
       "      <td>America/Los_Angeles</td>\n",
       "      <td>Solicitor</td>\n",
       "      <td>...</td>\n",
       "      <td>119.956840</td>\n",
       "      <td>2164.579412</td>\n",
       "      <td>4</td>\n",
       "      <td>4</td>\n",
       "      <td>4</td>\n",
       "      <td>2</td>\n",
       "      <td>5</td>\n",
       "      <td>4</td>\n",
       "      <td>3</td>\n",
       "      <td>3</td>\n",
       "    </tr>\n",
       "    <tr>\n",
       "      <th>4</th>\n",
       "      <td>Needville</td>\n",
       "      <td>TX</td>\n",
       "      <td>Fort Bend</td>\n",
       "      <td>77461</td>\n",
       "      <td>29.38012</td>\n",
       "      <td>-95.80673</td>\n",
       "      <td>11352</td>\n",
       "      <td>Suburban</td>\n",
       "      <td>America/Chicago</td>\n",
       "      <td>Medical illustrator</td>\n",
       "      <td>...</td>\n",
       "      <td>149.948316</td>\n",
       "      <td>271.493436</td>\n",
       "      <td>4</td>\n",
       "      <td>4</td>\n",
       "      <td>4</td>\n",
       "      <td>3</td>\n",
       "      <td>4</td>\n",
       "      <td>4</td>\n",
       "      <td>4</td>\n",
       "      <td>5</td>\n",
       "    </tr>\n",
       "  </tbody>\n",
       "</table>\n",
       "<p>5 rows × 46 columns</p>\n",
       "</div>"
      ],
      "text/plain": [
       "          City State                 County    Zip       Lat        Lng  \\\n",
       "0  Point Baker    AK  Prince of Wales-Hyder  99927  56.25100 -133.37571   \n",
       "1  West Branch    MI                 Ogemaw  48661  44.32893  -84.24080   \n",
       "2      Yamhill    OR                Yamhill  97148  45.35589 -123.24657   \n",
       "3      Del Mar    CA              San Diego  92014  32.96687 -117.24798   \n",
       "4    Needville    TX              Fort Bend  77461  29.38012  -95.80673   \n",
       "\n",
       "   Population      Area             TimeZone  \\\n",
       "0          38     Urban        America/Sitka   \n",
       "1       10446     Urban      America/Detroit   \n",
       "2        3735     Urban  America/Los_Angeles   \n",
       "3       13863  Suburban  America/Los_Angeles   \n",
       "4       11352  Suburban      America/Chicago   \n",
       "\n",
       "                                 Job  ...  MonthlyCharge  Bandwidth_GB_Year  \\\n",
       "0  Environmental health practitioner  ...     172.455519         904.536110   \n",
       "1             Programmer, multimedia  ...     242.632554         800.982766   \n",
       "2            Chief Financial Officer  ...     159.947583        2054.706961   \n",
       "3                          Solicitor  ...     119.956840        2164.579412   \n",
       "4                Medical illustrator  ...     149.948316         271.493436   \n",
       "\n",
       "   TimelyResponse Fixes Replacements Reliability  Options  Respectfulness  \\\n",
       "0               5     5            5           3        4               4   \n",
       "1               3     4            3           3        4               3   \n",
       "2               4     4            2           4        4               3   \n",
       "3               4     4            4           2        5               4   \n",
       "4               4     4            4           3        4               4   \n",
       "\n",
       "   Courteous  Listening  \n",
       "0          3          4  \n",
       "1          4          4  \n",
       "2          3          3  \n",
       "3          3          3  \n",
       "4          4          5  \n",
       "\n",
       "[5 rows x 46 columns]"
      ]
     },
     "execution_count": 14,
     "metadata": {},
     "output_type": "execute_result"
    }
   ],
   "source": [
    "# Review changes\n",
    "churn_df.head()"
   ]
  },
  {
   "cell_type": "code",
   "execution_count": 15,
   "metadata": {
    "scrolled": true
   },
   "outputs": [
    {
     "name": "stderr",
     "output_type": "stream",
     "text": [
      "findfont: Font family ['sans-serif'] not found. Falling back to DejaVu Sans.\n",
      "findfont: Font family ['sans-serif'] not found. Falling back to DejaVu Sans.\n"
     ]
    },
    {
     "data": {
      "image/png": "[encoded data removed]",
      "text/plain": [
       "<Figure size 840x480 with 12 Axes>"
      ]
     },
     "metadata": {
      "image/png": {
       "height": 470,
       "width": 824
      },
      "needs_background": "dark"
     },
     "output_type": "display_data"
    }
   ],
   "source": [
    "# Create histograms of contiuous variables & categorical variables\n",
    "churn_df[['Children', 'Age', 'Income', 'Outage_sec_perweek', 'Email', \n",
    "          'Contacts', 'Yearly_equip_failure', 'Tenure', 'MonthlyCharge', \n",
    "          'Bandwidth_GB_Year', 'TimelyResponse', 'Courteous']].hist()\n",
    "\n",
    "plt.tight_layout()"
   ]
  },
  {
   "cell_type": "code",
   "execution_count": 16,
   "metadata": {},
   "outputs": [],
   "source": [
    "# Set plot style to ggplot for aesthetics & R style\n",
    "plt.style.use('ggplot')"
   ]
  },
  {
   "cell_type": "code",
   "execution_count": null,
   "metadata": {},
   "outputs": [
    {
     "name": "stderr",
     "output_type": "stream",
     "text": [
      "findfont: Font family ['sans-serif'] not found. Falling back to DejaVu Sans.\n"
     ]
    }
   ],
   "source": [
    "# Provide a scatter matrix of numeric variables for high level overview of potential relationships & distributions\n",
    "churn_numeric = churn_df[['Children', 'Age', 'Income', 'Outage_sec_perweek', \n",
    "                          'Email', 'Contacts','Yearly_equip_failure', 'Tenure', \n",
    "                          'MonthlyCharge', 'Bandwidth_GB_Year', 'Replacements', \n",
    "                          'Reliability', 'Options', 'Respectfulness', 'Courteous', \n",
    "                          'Listening']]\n",
    "\n",
    "\n",
    "scatter_matrix = pd.plotting.scatter_matrix(\n",
    "    churn_numeric,\n",
    "    figsize  = [15, 15],\n",
    "    diagonal = \"kde\",\n",
    "    color=\"b\"\n",
    ")\n",
    "\n",
    "for ax in scatter_matrix.ravel():\n",
    "    ax.set_xlabel(ax.get_xlabel(), fontsize = 10, rotation = 90)\n",
    "    ax.set_ylabel(ax.get_ylabel(), fontsize = 10, rotation = 0)"
   ]
  },
  {
   "cell_type": "code",
   "execution_count": null,
   "metadata": {},
   "outputs": [],
   "source": [
    "# Create a scatterplot to get an idea of correlations between potentially related variables\n",
    "sns.scatterplot(x=churn_df['Tenure'], y=churn_df['Churn'], color='blue')\n",
    "plt.show();"
   ]
  },
  {
   "cell_type": "code",
   "execution_count": null,
   "metadata": {
    "scrolled": true
   },
   "outputs": [],
   "source": [
    "# Create a scatterplot to get an idea of correlations between potentially related variables\n",
    "sns.scatterplot(x=churn_df['MonthlyCharge'], y=churn_df['Outage_sec_perweek'], color='blue')\n",
    "plt.show();"
   ]
  },
  {
   "cell_type": "code",
   "execution_count": null,
   "metadata": {
    "scrolled": false
   },
   "outputs": [],
   "source": [
    "# Create a scatterplot to get an idea of correlations between potentially related variables\n",
    "sns.scatterplot(x=churn_df['Tenure'], y=churn_df['Bandwidth_GB_Year'], color='blue')\n",
    "plt.show();"
   ]
  },
  {
   "cell_type": "code",
   "execution_count": null,
   "metadata": {},
   "outputs": [],
   "source": [
    "# Countplot more useful than scatter_matrix when features of dataset are binary\n",
    "plt.figure()\n",
    "sns.countplot(x='Techie', hue='Churn', data=churn_df, palette='RdBu')\n",
    "plt.xticks([0,1], ['No', 'Yes'])\n",
    "plt.show()"
   ]
  },
  {
   "cell_type": "code",
   "execution_count": null,
   "metadata": {
    "scrolled": true
   },
   "outputs": [],
   "source": [
    "# Countplot more useful than scatter_matrix when features of dataset are binary\n",
    "plt.figure()\n",
    "sns.countplot(x='PaperlessBilling', hue='Churn', data=churn_df, palette='RdBu')\n",
    "plt.xticks([0,1], ['No', 'Yes'])\n",
    "plt.show()"
   ]
  },
  {
   "cell_type": "code",
   "execution_count": null,
   "metadata": {},
   "outputs": [],
   "source": [
    "# Countplot more useful than scatter_matrix when features of dataset are binary\n",
    "plt.figure()\n",
    "sns.countplot(x='InternetService', hue='Churn', data=churn_df, palette='RdBu')\n",
    "plt.xticks([0,1], ['No', 'Yes'])\n",
    "plt.show()"
   ]
  },
  {
   "cell_type": "code",
   "execution_count": null,
   "metadata": {},
   "outputs": [],
   "source": [
    "# Create Seaborn boxplots for continuous & categorical variables\n",
    "sns.boxplot('Age', data = churn_df, color=\"blue\")\n",
    "plt.show()"
   ]
  },
  {
   "cell_type": "code",
   "execution_count": null,
   "metadata": {
    "scrolled": true
   },
   "outputs": [],
   "source": [
    "# Find exact Age range in column\n",
    "print(\"Minimum Age is\", churn_df.Age.min())\n",
    "print(\"Maximum Age is\", churn_df.Age.max())\n",
    "print(\"Age range is\", churn_df.Age.max()-churn_df.Age.min())"
   ]
  },
  {
   "cell_type": "code",
   "execution_count": null,
   "metadata": {},
   "outputs": [],
   "source": [
    "# Find exact Income range in column\n",
    "print(\"Minimum Income is\", int(churn_df.Income.min()))\n",
    "print(\"Maximum Income is\", int(churn_df.Income.max()))\n",
    "print(\"Income range is\", int(churn_df.Income.max()-churn_df.Income.min()))"
   ]
  },
  {
   "cell_type": "code",
   "execution_count": null,
   "metadata": {},
   "outputs": [],
   "source": [
    "# Create Seaborn boxplots for continuous & categorical variables\n",
    "sns.boxplot('MonthlyCharge', data = churn_df, color=\"blue\")\n",
    "plt.show()"
   ]
  },
  {
   "cell_type": "code",
   "execution_count": null,
   "metadata": {},
   "outputs": [],
   "source": [
    "# Find exact MonthlyCharge range in column\n",
    "print(\"Minimum MonthlyCharge is\", int(churn_df.MonthlyCharge.min()))\n",
    "print(\"Maximum MonthlyCharge is\", int(churn_df.MonthlyCharge.max()))\n",
    "print(\"MonthlyCharge range is\", int(churn_df.MonthlyCharge.max()-churn_df.MonthlyCharge.min()))"
   ]
  },
  {
   "cell_type": "code",
   "execution_count": null,
   "metadata": {},
   "outputs": [],
   "source": [
    "# Create Seaborn boxplots for continuous & categorical variables\n",
    "sns.boxplot('Bandwidth_GB_Year', data = churn_df, color=\"blue\")\n",
    "plt.show()"
   ]
  },
  {
   "cell_type": "code",
   "execution_count": null,
   "metadata": {},
   "outputs": [],
   "source": [
    "# Create Seaborn boxplots for continuous variables\n",
    "sns.boxplot('Tenure', data = churn_df, color=\"blue\")\n",
    "plt.show()"
   ]
  },
  {
   "cell_type": "markdown",
   "metadata": {},
   "source": [
    "#### Anomalies\n",
    "It appears that anomolies have been removed from the supplied dataset, churn_clean.csv. &nbsp; There are no remaining outliers."
   ]
  },
  {
   "cell_type": "code",
   "execution_count": null,
   "metadata": {},
   "outputs": [],
   "source": [
    "# Discover missing data points within dataset\n",
    "data_nulls = churn_df.isnull().sum()\n",
    "print(data_nulls)"
   ]
  },
  {
   "cell_type": "code",
   "execution_count": null,
   "metadata": {},
   "outputs": [],
   "source": [
    "# Check for missing data & visualize missing values in dataset \n",
    "\n",
    "# Install appropriate library\n",
    "!pip install missingno\n",
    "\n",
    "# Importing the libraries\n",
    "import missingno as msno\n",
    "\n",
    "# Visualize missing values as a matrix\n",
    "msno.matrix(churn_df);\n",
    "\"\"\"(GeeksForGeeks, p. 1)\"\"\""
   ]
  },
  {
   "cell_type": "code",
   "execution_count": null,
   "metadata": {},
   "outputs": [],
   "source": [
    "# # Encode binary categorical variables with dummies\n",
    "# churn_df['DummyGender'] = [1 if v == 'Male' else 0 for v in churn_df['Gender']]\n",
    "# churn_df['DummyChurn'] = [1 if v == 'Yes' else 0 for v in churn_df['Churn']] ### If the customer left (churned) they get a '1'\n",
    "# churn_df['DummyTechie'] = [1 if v == 'Yes' else 0 for v in churn_df['Techie']]\n",
    "# churn_df['DummyContract'] = [1 if v == 'Two Year' else 0 for v in churn_df['Contract']]\n",
    "# churn_df['DummyPort_modem'] = [1 if v == 'Yes' else 0 for v in churn_df['Port_modem']]\n",
    "# churn_df['DummyTablet'] = [1 if v == 'Yes' else 0 for v in churn_df['Tablet']]\n",
    "# churn_df['DummyInternetService'] = [1 if v == 'Fiber Optic' else 0 for v in churn_df['InternetService']]\n",
    "# churn_df['DummyPhone'] = [1 if v == 'Yes' else 0 for v in churn_df['Phone']]\n",
    "# churn_df['DummyMultiple'] = [1 if v == 'Yes' else 0 for v in churn_df['Multiple']]\n",
    "# churn_df['DummyOnlineSecurity'] = [1 if v == 'Yes' else 0 for v in churn_df['OnlineSecurity']]\n",
    "# churn_df['DummyOnlineBackup'] = [1 if v == 'Yes' else 0 for v in churn_df['OnlineBackup']]\n",
    "# churn_df['DummyDeviceProtection'] = [1 if v == 'Yes' else 0 for v in churn_df['DeviceProtection']]\n",
    "# churn_df['DummyTechSupport'] = [1 if v == 'Yes' else 0 for v in churn_df['TechSupport']]\n",
    "# churn_df['DummyStreamingTV'] = [1 if v == 'Yes' else 0 for v in churn_df['StreamingTV']]\n",
    "# churn_df['StreamingMovies'] = [1 if v == 'Yes' else 0 for v in churn_df['StreamingMovies']]\n",
    "# churn_df['DummyPaperlessBilling'] = [1 if v == 'Yes' else 0 for v in churn_df['PaperlessBilling']]"
   ]
  },
  {
   "cell_type": "code",
   "execution_count": null,
   "metadata": {},
   "outputs": [],
   "source": [
    "# # # Drop original categorical features from dataframe\n",
    "# churn_df = churn_df.drop(columns=['Gender', 'Churn', 'Techie', 'Contract', 'Port_modem', 'Tablet', \n",
    "#                                   'InternetService', 'Phone', 'Multiple', 'OnlineSecurity', \n",
    "#                                   'OnlineBackup', 'DeviceProtection', 'TechSupport', \n",
    "#                                   'StreamingTV', 'StreamingMovies', 'PaperlessBilling'])"
   ]
  },
  {
   "cell_type": "code",
   "execution_count": null,
   "metadata": {},
   "outputs": [],
   "source": [
    "# List features for analysis\n",
    "features = (list(churn_df.columns[:-1]))\n",
    "print('Features for analysis include: \\n', features)"
   ]
  },
  {
   "cell_type": "markdown",
   "metadata": {},
   "source": [
    "#### <span style=\"color:green\"><b>C4. Cleaned Dataset</b>:</span>\n",
    "Cleaned dataset is extracted as \"churn_prepared_kmeans.csv.\""
   ]
  },
  {
   "cell_type": "code",
   "execution_count": null,
   "metadata": {},
   "outputs": [],
   "source": [
    "# Extract Clean dataset\n",
    "churn_df.to_csv('data/churn_prepared_kmeans.csv')"
   ]
  },
  {
   "cell_type": "markdown",
   "metadata": {},
   "source": [
    "#### Part IV: Analysis"
   ]
  },
  {
   "cell_type": "markdown",
   "metadata": {},
   "source": [
    "#### <span style=\"color:green\"><b>D1. Output and Intermediate Calculations</b></span>\n",
    "We used the Scikit-learn KMeans class to iterate over three sets of paired relevant features in order to provide meaningful heuristics from which better understand our customers and, therefore, make better business desicions. Those three sets included:\n",
    "\n",
    "* Tenure and MonthlyCharge\n",
    "* Income and MonthlyCharge \n",
    "* Tenure and Bandwidth_GB_Year\n",
    "\n",
    "To find optimal numbers of clusters, we used the scree plot elbow method for each set, respectively."
   ]
  },
  {
   "cell_type": "markdown",
   "metadata": {},
   "source": [
    "#### <span style=\"color:green\"><b>D2. Code Execution</b></span>\n",
    "K-means clustering code and visualizations below."
   ]
  },
  {
   "cell_type": "code",
   "execution_count": null,
   "metadata": {},
   "outputs": [],
   "source": [
    "# Import prepared Churn dataset\n",
    "churn_df = pd.read_csv('data/churn_prepared_kmeans.csv', index_col=0)"
   ]
  },
  {
   "cell_type": "code",
   "execution_count": null,
   "metadata": {},
   "outputs": [],
   "source": [
    "# Import KMeans class from Scikit-learn\n",
    "from sklearn.cluster import KMeans"
   ]
  },
  {
   "cell_type": "code",
   "execution_count": null,
   "metadata": {},
   "outputs": [],
   "source": [
    "# Set plot style to ggplot for aesthetics & R style\n",
    "plt.style.use('ggplot')"
   ]
  },
  {
   "cell_type": "markdown",
   "metadata": {},
   "source": [
    "#### <span style=\"color:orange\"><b>K-means: Tenure v. MonthlyCharge</b></span>"
   ]
  },
  {
   "cell_type": "code",
   "execution_count": null,
   "metadata": {},
   "outputs": [],
   "source": [
    "# Select indexes (features) of Tenure and MonthlyCharge for initial clustering\n",
    "X = churn_df.iloc[:, [35, 36]].values"
   ]
  },
  {
   "cell_type": "code",
   "execution_count": null,
   "metadata": {},
   "outputs": [],
   "source": [
    "# Use the elbow method to find the optimal number of clusters\n",
    "# Create a Within Cluster Sum of Squares (WCSS) list\n",
    "wcss = []\n",
    "\n",
    "# Write a for loop to write values to wcss list by iterating through kmeans objects\n",
    "for i in range(1, 11):\n",
    "    kmeans = KMeans(n_clusters=i, init='k-means++', random_state=42)\n",
    "    kmeans.fit(X)\n",
    "    wcss.append(kmeans.inertia_)\n",
    "\n",
    "# Scree plot the optimal number of clusters\n",
    "plt.plot(range(1, 11), wcss)\n",
    "plt.title('The Elbow Method')\n",
    "plt.xlabel('Number of Clusters')\n",
    "plt.ylabel('WCSS')\n",
    "plt.savefig('churn_scree_tenure_v_monthly-charge.jpg')\n",
    "plt.show()"
   ]
  },
  {
   "cell_type": "code",
   "execution_count": null,
   "metadata": {},
   "outputs": [],
   "source": [
    "# Train the K-means model on the dataset\n",
    "kmeans = KMeans(n_clusters=6, init='k-means++', random_state=42)\n",
    "\n",
    "# Build the dependent variable to split customers in different clusters\n",
    "y_kmeans = kmeans.fit_predict(X)"
   ]
  },
  {
   "cell_type": "code",
   "execution_count": null,
   "metadata": {},
   "outputs": [],
   "source": [
    "print(y_kmeans)"
   ]
  },
  {
   "cell_type": "code",
   "execution_count": null,
   "metadata": {},
   "outputs": [],
   "source": [
    "# Visualize the clusters\n",
    "# Scatter plot 5 clusters for Tenure v. MonthlyCharge\n",
    "plt.scatter(X[y_kmeans == 0, 0], X[y_kmeans == 0, 1], s = 10, c = 'red', label = 'cluster 1')\n",
    "plt.scatter(X[y_kmeans == 1, 0], X[y_kmeans == 1, 1], s = 10, c = 'green', label = 'cluster 2')\n",
    "plt.scatter(X[y_kmeans == 2, 0], X[y_kmeans == 2, 1], s = 10, c = 'blue', label = 'cluster 3')\n",
    "plt.scatter(X[y_kmeans == 3, 0], X[y_kmeans == 3, 1], s = 10, c = 'orange', label = 'cluster 4')\n",
    "plt.scatter(X[y_kmeans == 4, 0], X[y_kmeans == 4, 1], s = 10, c = 'cyan', label = 'cluster 5')\n",
    "plt.scatter(X[y_kmeans == 5, 0], X[y_kmeans == 5, 1], s = 10, c = 'magenta', label = 'cluster 6')\n",
    "\n",
    "# Plot centroids of each cluster\n",
    "plt.scatter(kmeans.cluster_centers_[:, 0], kmeans.cluster_centers_[:, 1], s = 100, c = 'yellow', label = 'Centroids')\n",
    "\n",
    "# Generate plot description\n",
    "title_obj = plt.title('6 Clusters of Customers') #get the title property handler\n",
    "plt.getp(title_obj)                  #print out the properties of title\n",
    "plt.getp(title_obj, 'text')            #print out the 'text' property for title\n",
    "plt.setp(title_obj, color='gray')         #set the color of title to red\n",
    "\n",
    "plt.xlabel('Tenure (months)')\n",
    "plt.ylabel('MonthlyCharge $')\n",
    "\n",
    "# Color of legend font\n",
    "legend = plt.legend(loc='center left', bbox_to_anchor=(1, 0.5))\n",
    "plt.setp(legend.get_texts(), color='gray')\n",
    "\n",
    "# Save plot to directory\n",
    "plt.savefig('churn_kmeans_tenure_v_monthly-charge.jpg')\n",
    "\n",
    "# Plot it\n",
    "plt.show();"
   ]
  },
  {
   "cell_type": "markdown",
   "metadata": {},
   "source": [
    "#### <span style=\"color:orange\"><b>K-means: Income v. MonthlyCharge</b></span>"
   ]
  },
  {
   "cell_type": "code",
   "execution_count": null,
   "metadata": {},
   "outputs": [],
   "source": [
    "# Select indexes (features) of Income and MonthlyCharge for initial clustering\n",
    "X = churn_df.iloc[:, [12, 36]].values"
   ]
  },
  {
   "cell_type": "code",
   "execution_count": null,
   "metadata": {},
   "outputs": [],
   "source": [
    "# Use the elbow method to find the optimal number of clusters\n",
    "# Create a Within Cluster Sum of Squares (WCSS) list\n",
    "wcss = []\n",
    "\n",
    "# Write a for loop to write values to wcss list by iterating through kmeans objects\n",
    "for i in range(1, 11):\n",
    "    kmeans = KMeans(n_clusters=i, init='k-means++', random_state=42)\n",
    "    kmeans.fit(X)\n",
    "    wcss.append(kmeans.inertia_)\n",
    "\n",
    "# Scree plot the optimal number of clusters\n",
    "plt.plot(range(1, 11), wcss)\n",
    "plt.title('The Elbow Method')\n",
    "plt.xlabel('Number of Clusters')\n",
    "plt.ylabel('WCSS')\n",
    "plt.savefig('churn_scree_income_v_monthly-charge.jpg')\n",
    "plt.show()"
   ]
  },
  {
   "cell_type": "code",
   "execution_count": null,
   "metadata": {},
   "outputs": [],
   "source": [
    "# Train the K-means model on the dataset\n",
    "kmeans = KMeans(n_clusters=4, init='k-means++', random_state=42)\n",
    "\n",
    "# Build the dependent variable to split customers in different clusters\n",
    "y_kmeans = kmeans.fit_predict(X)"
   ]
  },
  {
   "cell_type": "code",
   "execution_count": null,
   "metadata": {},
   "outputs": [],
   "source": [
    "# Visualize the clusters\n",
    "# Scatter plot 4 clusters for Income and MonthlyCharge\n",
    "plt.scatter(X[y_kmeans == 0, 0], X[y_kmeans == 0, 1], s = 10, c = 'red', label = 'cluster 1')\n",
    "plt.scatter(X[y_kmeans == 1, 0], X[y_kmeans == 1, 1], s = 10, c = 'green', label = 'cluster 2')\n",
    "plt.scatter(X[y_kmeans == 2, 0], X[y_kmeans == 2, 1], s = 10, c = 'blue', label = 'cluster 3')\n",
    "plt.scatter(X[y_kmeans == 3, 0], X[y_kmeans == 3, 1], s = 10, c = 'orange', label = 'cluster 4')\n",
    "\n",
    "# Plot centroids of each cluster\n",
    "plt.scatter(kmeans.cluster_centers_[:, 0], kmeans.cluster_centers_[:, 1], s = 100, c = 'yellow', label = 'Centroids')\n",
    "\n",
    "# Generate plot description\n",
    "title_obj = plt.title('4 Clusters of Customers') #get the title property handler\n",
    "plt.getp(title_obj)                  #print out the properties of title\n",
    "plt.getp(title_obj, 'text')            #print out the 'text' property for title\n",
    "plt.setp(title_obj, color='gray')         #set the color of title to red\n",
    "\n",
    "plt.xlabel('Income $')\n",
    "plt.ylabel('MonthlyCharge $')\n",
    "\n",
    "# Color of legend font\n",
    "legend = plt.legend(loc='center left', bbox_to_anchor=(1, 0.5))\n",
    "plt.setp(legend.get_texts(), color='gray')\n",
    "\n",
    "# Save plot to directory\n",
    "plt.savefig('churn_kmeans_income_v_monthly-charge.jpg')\n",
    "\n",
    "# Plot it\n",
    "plt.show();"
   ]
  },
  {
   "cell_type": "markdown",
   "metadata": {},
   "source": [
    "#### <span style=\"color:orange\"><b>K-means: Tenure v. Bandwidth_GB_Year</b></span>"
   ]
  },
  {
   "cell_type": "code",
   "execution_count": null,
   "metadata": {},
   "outputs": [],
   "source": [
    "# Select indexes (features) of Tenure and Bandwidth_GB_Year for initial clustering\n",
    "X = churn_df.iloc[:, [35, 37]].values"
   ]
  },
  {
   "cell_type": "code",
   "execution_count": null,
   "metadata": {},
   "outputs": [],
   "source": [
    "# Use the elbow method to find the optimal number of clusters\n",
    "# Create a Within Cluster Sum of Squares (WCSS) list\n",
    "wcss = []\n",
    "\n",
    "# Write a for loop to write values to wcss list by iterating through kmeans objects\n",
    "for i in range(1, 11):\n",
    "    kmeans = KMeans(n_clusters=i, init='k-means++', random_state=42)\n",
    "    kmeans.fit(X)\n",
    "    wcss.append(kmeans.inertia_)\n",
    "\n",
    "# Scree plot the optimal number of clusters\n",
    "plt.plot(range(1, 11), wcss)\n",
    "plt.title('The Elbow Method')\n",
    "plt.xlabel('Number of Clusters')\n",
    "plt.ylabel('WCSS')\n",
    "plt.savefig('churn_scree_tenure_v_bandwidth-gb-year.jpg')\n",
    "plt.show()"
   ]
  },
  {
   "cell_type": "code",
   "execution_count": null,
   "metadata": {},
   "outputs": [],
   "source": [
    "# Train the K-means model on the dataset\n",
    "kmeans = KMeans(n_clusters=2, init='k-means++', random_state=42)\n",
    "\n",
    "# Build the dependent variable to split customers in different clusters\n",
    "y_kmeans = kmeans.fit_predict(X)"
   ]
  },
  {
   "cell_type": "code",
   "execution_count": null,
   "metadata": {},
   "outputs": [],
   "source": [
    "# Visualize the clusters\n",
    "# Scatter plot 4 clusters for Tenure and Bandwidth_GB_Year\n",
    "plt.scatter(X[y_kmeans == 0, 0], X[y_kmeans == 0, 1], s = 10, c = 'red', label = 'cluster 1')\n",
    "plt.scatter(X[y_kmeans == 1, 0], X[y_kmeans == 1, 1], s = 10, c = 'green', label = 'cluster 2')\n",
    "\n",
    "# Plot centroids of each cluster\n",
    "plt.scatter(kmeans.cluster_centers_[:, 0], kmeans.cluster_centers_[:, 1], s = 100, c = 'yellow', label = 'Centroids')\n",
    "\n",
    "# Generate plot description\n",
    "title_obj = plt.title('2 Clusters of Customers') #get the title property handler\n",
    "plt.getp(title_obj)                  #print out the properties of title\n",
    "plt.getp(title_obj, 'text')            #print out the 'text' property for title\n",
    "plt.setp(title_obj, color='gray')         #set the color of title to red\n",
    "\n",
    "plt.xlabel('Tenure (months)')\n",
    "plt.ylabel('Bandwidth_GB_Year')\n",
    "\n",
    "# Color of legend font\n",
    "legend = plt.legend(loc='center left', bbox_to_anchor=(1, 0.5))\n",
    "plt.setp(legend.get_texts(), color='gray')\n",
    "\n",
    "# Save plot to directory\n",
    "plt.savefig('churn_kmeans_tenure_v_bandwidth-gb-year.jpg')\n",
    "\n",
    "# Plot it\n",
    "plt.show();"
   ]
  },
  {
   "cell_type": "markdown",
   "metadata": {},
   "source": [
    "#### Part V: Data Summary and Implications\n",
    "E.  Summarize your data analysis by doing the following:"
   ]
  },
  {
   "cell_type": "markdown",
   "metadata": {},
   "source": [
    "#### <span style=\"color:green\"><b>E1. Accuracy of Clustering Technique</b></span>\n",
    "As Manimaran suggests at TowardsDataScience.com, \"Validating the clustering algorithm is bit tricky compared to supervised machine learning algorithm as clustering process does not contain ground truth labels\" (Manimaran, p. 1). \n",
    "\n",
    "So, we will consider three factors in evaluating the accuracy of our k-means clustering here:\n",
    "\n",
    "* Clustering tendency\n",
    "* Number of clusters\n",
    "* Clustering quality\n",
    "\n",
    "<br>\n",
    "1. <u>Clustering tendency</u>: Many of our potential numerical variables contain uniformly distributed data points, as is demonstrated with our scatter matrix above (see bivariate plots including customer survey results - Replacements, Reliability, etc.).  We have selected non-uniform distributions of Tenure, Income, Bandwidth_GB_Year and MonthlyCharge on which to perform our analyses.  Therefore, we may be more likely to demonstrate meaningful clusters.  Also, we avoid using the dummy variables, which are also distributed uniformly.\n",
    "2. <u>Number of clusters</u>: For the optimal number of cluster <i>k</i>, we have used the elbow method to discover to plot the <i>k</i> values with respect to within-cluster variance, demonstrated in our scree plots above.  Our results of the elbow demonstrate clustering of two, four and six.\n",
    "3. <u>Clustering quality</u>: Following the clustering, we are able to view tightness of clusters with respect to their respective centroids.  As demonstrated in the plotted clusters for our three k-means clusterings, our clusters are not tightly gathered around there centroids. Rather, the nature of the customer dataset has given us \"levels\" or \"bands\" of clusters."
   ]
  },
  {
   "cell_type": "markdown",
   "metadata": {},
   "source": [
    "#### <span style=\"color:green\"><b>E2. Results and Implications</b></span>\n",
    "See below."
   ]
  },
  {
   "cell_type": "markdown",
   "metadata": {},
   "source": [
    "#### <span style=\"color:green\"><b>E3. Limitation</b></span>\n",
    "One limitation of this analysis, with this given telecom company dataset is that the data are not coming from a warehouse.  In this scenario, it is as though we instantiated the data randomly using Python statistically packages.  So, we are not able to reach out to the staff that organized & gathered this information to ask them why, in their subject-matter-expert opinions, certain uniformities exist and whether A/B testing or some other comparisons might be more relevant to answering questions about customer retention or churn.  In a real world project, we would be able to go to the department where data acquisition occurred and, perhaps, discover more meaningful results through a more careful, focused process."
   ]
  },
  {
   "cell_type": "markdown",
   "metadata": {},
   "source": [
    "#### <span style=\"color:green\"><b>E4. Course of Action</b></span>    \n",
    "It is critical that decision-makers and marketers understand that our bivariate analysis are suggesting some relationships. &nbsp; We should analyse the features that are in common among those leaving the company and attempt to reduce their likelihood of occuring with any given customer in the future. &nbsp; Early descriptive statistical analyses suggest that as a customer subscribes to more services that the company provided, an additional port modem or online backup for example, they are less likely to leave the company. &nbsp; Clearly, it is the best interest of retaining customers to provide them with more services & improve their experience with the company by helping customers understand all the services that are available to them as a subscriber, not simple mobile phone service.  \n",
    "<br>With that said, there is a cluster of customers that have high income yet their monthly charge is low.  We should target these groups for more marketing and greater contact from our advertisers.  \n",
    "<br>Also, there are clusters of customers with low income, both with high and low monthly charges.  We should take care as an ethical company not to target theses market segments as, 1) they clearly do not have the money to be spending on streaming videos or other \"luxury\" services, and 2) will these customers may end up not being to make their monthly payment and potentially leave our company, migrating to the \"free trial\" offers of other companies, leaving us with their bill unpaid."
   ]
  },
  {
   "cell_type": "markdown",
   "metadata": {},
   "source": [
    "#### <span style=\"color:green\"><b>F. Video</b></span>\n",
    "<span style=\"color:red\">https://wgu.hosted.panopto.com/Panopto/Pages/Viewer.aspx?id=17e6455a-d333-464c-80db-adc200fb50f3</span>"
   ]
  },
  {
   "cell_type": "markdown",
   "metadata": {},
   "source": [
    "#### G. Sources for Third-Party Code\n",
    "* GeeksForGeeks. &ensp; (2019, July 4). &ensp; <i>Python | Visualize missing values (NaN) values using Missingno Library</i>. &ensp; GeeksForGeeks. &ensp; https://www.geeksforgeeks.org/python-visualize-missing-values-nan-values-using-missingno-library/\n",
    "<br>\n",
    "* SuperDataScience. &ensp; (2021, August 15) &ensp; <i>Machine Learning A-Z: Hands-On Python & R in Data Science</i>. &ensp; https://www.superdatascience.com/\n",
    "<br>\n",
    "<!-- * Dennis, T. &ensp; (2019, July 25). &ensp; <i>Confusion Matrix Visualization</i>. &ensp; Medium. &ensp; https://medium.com/@dtuk81/confusion-matrix-visualization-fc31e3f30fea -->"
   ]
  },
  {
   "cell_type": "markdown",
   "metadata": {},
   "source": [
    "#### H. Sources \n",
    "* CBTNuggets. &ensp; (2018, September 20). &ensp; <i>Why Data Scientists Love Python</i>. &ensp; CBTNuggets. &ensp; https://www.cbtnuggets.com/blog/technology/data/why-data-scientists-love-python\n",
    "<br> \n",
    "* Daityari, S. &ensp; (2021, October 03). &ensp; <i>Basics of k-means clustering</i>. &ensp; DataCamp. &ensp; https://campus.datacamp.com/courses/cluster-analysis-in-python/k-means-clustering-3?ex=1\n",
    "<br>\n",
    "* Garbade, M. &ensp; (2018, September 12). &ensp; <i>Understanding K-means Clustering in Machine Learning</i>. &ensp; TowardDataScience. &ensp; https://towardsdatascience.com/understanding-k-means-clustering-in-machine-learning-6a6e67336aa1\n",
    "<br> \n",
    "* Jeffares, A. &ensp; (2019, November 19). &ensp; <i>K-means: A Complete Introduction</i>. &ensp; TowardDataScience. &ensp; https://towardsdatascience.com/k-means-a-complete-introduction-1702af9cd8c\n",
    "<br> \n",
    "* Manimaran. &ensp; (2019, May 22). &ensp; <i>Clustering Evaluation Strategies</i>. &ensp; TowardDataScience. &ensp; https://towardsdatascience.com/clustering-evaluation-strategies-98a4006fcfc\n",
    "<br>\n",
    "* Massaron, L. & Boschetti, A. &ensp; (2016). &ensp; <i>Regression Analysis with Python</i>. &ensp; Packt Publishing.\n",
    "<br> \n",
    "* VanderPlas, J. &ensp; (2017). &ensp; <i>Python Data Science Handbook</i>. &ensp; O'Reilly."
   ]
  },
  {
   "cell_type": "code",
   "execution_count": null,
   "metadata": {},
   "outputs": [],
   "source": [
    "!wget -nc https://raw.githubusercontent.com/brpy/colab-pdf/master/colab_pdf.py\n",
    "from colab_pdf import colab_pdf\n",
    "colab_pdf('OFM3_TASK_1_CLUSTERING_TECHNIQUES.ipynb')"
   ]
  }
 ],
 "metadata": {
  "kernelspec": {
   "display_name": "Python 3",
   "language": "python",
   "name": "python3"
  },
  "language_info": {
   "codemirror_mode": {
    "name": "ipython",
    "version": 3
   },
   "file_extension": ".py",
   "mimetype": "text/x-python",
   "name": "python",
   "nbconvert_exporter": "python",
   "pygments_lexer": "ipython3",
   "version": "3.7.6"
  },
  "varInspector": {
   "cols": {
    "lenName": 16,
    "lenType": 16,
    "lenVar": 40
   },
   "kernels_config": {
    "python": {
     "delete_cmd_postfix": "",
     "delete_cmd_prefix": "del ",
     "library": "var_list.py",
     "varRefreshCmd": "print(var_dic_list())"
    },
    "r": {
     "delete_cmd_postfix": ") ",
     "delete_cmd_prefix": "rm(",
     "library": "var_list.r",
     "varRefreshCmd": "cat(var_dic_list()) "
    }
   },
   "types_to_exclude": [
    "module",
    "function",
    "builtin_function_or_method",
    "instance",
    "_Feature"
   ],
   "window_display": false
  }
 },
 "nbformat": 4,
 "nbformat_minor": 4
}
