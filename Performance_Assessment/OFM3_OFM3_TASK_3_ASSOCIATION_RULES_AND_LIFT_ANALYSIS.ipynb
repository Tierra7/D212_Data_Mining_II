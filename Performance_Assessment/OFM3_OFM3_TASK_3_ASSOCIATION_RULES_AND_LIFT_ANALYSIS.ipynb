{
 "cells": [
  {
   "cell_type": "markdown",
   "metadata": {},
   "source": [
    "#### OFM3 — OFM3 TASK 3: ASSOCIATION RULES AND LIFT ANALYSIS"
   ]
  },
  {
   "cell_type": "markdown",
   "metadata": {},
   "source": [
    "<ul>\n",
    "<li>Ryan L. Buchanan</li>\n",
    "<li>Student ID:  001826691</li>\n",
    "<li>Masters Data Analytics (12/01/2020)</li>\n",
    "<li>Program Mentor:  Dan Estes</li>\n",
    "<li>385-432-9281 (MST)</li>\n",
    "<li>rbuch49@wgu.edu</li>\n",
    "</ul>"
   ]
  },
  {
   "cell_type": "markdown",
   "metadata": {},
   "source": [
    "#### Scenario 1\n",
    "One of the most critical factors in customer relationship management that directly affects a company’s long-term profitability is understanding its customers. When a company can better understand its customer characteristics, it is better able to target products and marketing campaigns for customers, resulting in better profits for the company in the long term.\n",
    "\n",
    "You are an analyst for a telecommunications company that wants to better understand the characteristics of its customers. You have been asked to perform a market basket analysis to analyze customer data to identify key associations of your customer purchases, ultimately allowing better business and strategic decision-making."
   ]
  },
  {
   "cell_type": "markdown",
   "metadata": {},
   "source": [
    "#### Part I: Research Question"
   ]
  },
  {
   "cell_type": "markdown",
   "metadata": {},
   "source": [
    "#### <span style=\"color:green\"><b>A1. Proposal of Question</b>:</span>\n",
    "Which are the items of interest in combination with discounts that might reduce customer churn?  That is, by analyzing a list of transactions, may we be able to better understand which items will endear us to customers more if offered as discounted with our services?\n",
    "This question will be answered using <b>market basket analysis</b>."
   ]
  },
  {
   "cell_type": "markdown",
   "metadata": {},
   "source": [
    "#### <span style=\"color:green\"><b>A2. Defined Goal</b>:</span>\n",
    "Stakeholders in the company will benefit by knowing, with some measure of confidence, which customers are at highest risk of churn because this will provide weight for decisions in marketing improved services to customers with these characteristics and past user experiences.\n",
    "The goal of this data analysis is to present items for discount purchase to company stakeholders to consider when creating customer enticements and marketing promotions.  We will endeavor to help decision makers better understand which combinations of features (items in concert with telecom services) put their customers at lower risk of churning."
   ]
  },
  {
   "cell_type": "markdown",
   "metadata": {},
   "source": [
    "#### Part II: Market Basket Justification"
   ]
  },
  {
   "cell_type": "markdown",
   "metadata": {},
   "source": [
    "#### <span style=\"color:green\"><b>B1. Explanation of Market Basket</b>:</span>\n",
    "As pointed out by Li, \"\\[m\\]arket basket analysis is one of the key techniques used . . . to uncover associations between items. It works by looking for combinations of items that occur together frequently in transactions\" <span style=\"color:orange\">(Li, p. 1)</span>.  \n",
    "\n",
    "This analysis proposes to identify which combinations of telecom peripherals and ICT tools customers prefer and purchase together most often.  We will try to identify those items purchased most often together and demonstrate the relationships between these different items.\n",
    "\n",
    "We expect that we will discover an optimal combination of items to offer at discounts in coordination with our services.\n",
    "\n",
    "Our plan for analysis includes: \n",
    "* Prepare the dataset\n",
    "* Discover missing values\n",
    "* Run the Apriori method to identify association rules\n",
    "* Check the rules with highest values for confidence, support and lift\n",
    "* Recommend a course of action following the results of our analysis"
   ]
  },
  {
   "cell_type": "markdown",
   "metadata": {},
   "source": [
    "#### <span style=\"color:green\"><b>B2. Transaction Example</b>:</span>\n",
    "On quick inspection of the given dataset, transactions are easily distinguishable.  The very first transactions includes a larger list of twenty items including:\n",
    "* Logitech M510 Wireless mouse\t\n",
    "* HP 63 Ink\t\n",
    "* HP 65 ink\t\n",
    "* nonda USB C to USB Adapter\t\n",
    "* 10ft iPHone Charger Cable\t\n",
    "* HP 902XL ink\t\n",
    "* Creative Pebble 2.0 Speakers\t\n",
    "* Cleaning Gel Universal Dust Cleaner\t\n",
    "* Micro Center 32GB Memory card\t\n",
    "* YUNSONG 3pack 6ft Nylon Lightning Cable\t\n",
    "* TopMate C5 Laptop Cooler pad\t\n",
    "* Apple USB-C Charger cable\t\n",
    "* HyperX Cloud Stinger Headset\t\n",
    "* TONOR USB Gaming Microphone\t\n",
    "* Dust-Off Compressed Gas 2 pack\t\n",
    "* 3A USB Type C Cable 3 pack 6FT\t\n",
    "* HOVAMP iPhone charger\t\n",
    "* SanDisk Ultra 128GB card\t\n",
    "* FEEL2NICE 5 pack 10ft Lighning cable\t\n",
    "* FEIYOLD Blue light Blocking Glasses\n",
    "\n",
    "These twenty items were purchased by one customer, synchronously."
   ]
  },
  {
   "cell_type": "markdown",
   "metadata": {},
   "source": [
    "#### <span style=\"color:green\"><b>B3. Market Basket Assumption</b>:</span>\n",
    "One assumption of MBA is to make determinations by building association rules.  These rules, suggests Dr. Susan Sivek, \"are just statements that connect an 'antecedent' item to a 'consequent' item. Association rules also do not imply causal relationships, only co-occurrence\" <span style=\"color:orange\">(Sivek, p. 1)</span>.\n",
    "\n",
    "So, for instance in our research proposal, we would like to identify items that would purchased before subscribing to a telecom service, or, perhaps, items that would be used in coordination with telecom services."
   ]
  },
  {
   "cell_type": "markdown",
   "metadata": {},
   "source": [
    "#### <span style=\"color:green\"><b>C1. Transforming the Dataset</b>:</span>"
   ]
  },
  {
   "cell_type": "code",
   "execution_count": null,
   "metadata": {},
   "outputs": [],
   "source": [
    "# Standard data science imports\n",
    "import numpy as np\n",
    "import pandas as pd\n",
    "\n",
    "# Visualization libraries\n",
    "import seaborn as sns\n",
    "import matplotlib.pyplot as plt\n",
    "%matplotlib inline"
   ]
  },
  {
   "cell_type": "code",
   "execution_count": null,
   "metadata": {},
   "outputs": [],
   "source": [
    "# Change color of Matplotlib font\n",
    "import matplotlib as mpl\n",
    "\n",
    "COLOR = 'white'\n",
    "mpl.rcParams['text.color'] = COLOR\n",
    "mpl.rcParams['axes.labelcolor'] = COLOR\n",
    "mpl.rcParams['xtick.color'] = COLOR\n",
    "mpl.rcParams['ytick.color'] = COLOR"
   ]
  },
  {
   "cell_type": "code",
   "execution_count": null,
   "metadata": {},
   "outputs": [],
   "source": [
    "# Increase Jupyter display cell-width\n",
    "from IPython.core.display import display, HTML\n",
    "display(HTML(\"<style>.container { width:75% !important; }</style>\"))"
   ]
  },
  {
   "cell_type": "code",
   "execution_count": null,
   "metadata": {},
   "outputs": [],
   "source": [
    "# Ignore Warning Code\n",
    "import warnings\n",
    "warnings.filterwarnings('ignore')"
   ]
  },
  {
   "cell_type": "code",
   "execution_count": null,
   "metadata": {},
   "outputs": [],
   "source": [
    "# Load data set into Pandas dataframe\n",
    "teleco = pd.read_csv('data/teleco_market_basket.csv')"
   ]
  },
  {
   "cell_type": "code",
   "execution_count": null,
   "metadata": {
    "scrolled": true
   },
   "outputs": [],
   "source": [
    "# Examine the features of the dataset\n",
    "teleco.columns"
   ]
  },
  {
   "cell_type": "code",
   "execution_count": null,
   "metadata": {},
   "outputs": [],
   "source": [
    "# Get an idea of dataset size\n",
    "teleco.shape"
   ]
  },
  {
   "cell_type": "code",
   "execution_count": null,
   "metadata": {},
   "outputs": [],
   "source": [
    "# Examine first few records of dataset\n",
    "teleco.head()"
   ]
  },
  {
   "cell_type": "code",
   "execution_count": null,
   "metadata": {},
   "outputs": [],
   "source": [
    "# View DataFrame info\n",
    "teleco.info"
   ]
  },
  {
   "cell_type": "code",
   "execution_count": null,
   "metadata": {},
   "outputs": [],
   "source": [
    "# Get an overview of descriptive statistics\n",
    "teleco.describe()"
   ]
  },
  {
   "cell_type": "code",
   "execution_count": null,
   "metadata": {},
   "outputs": [],
   "source": [
    "# Get data types of features\n",
    "teleco.dtypes"
   ]
  },
  {
   "cell_type": "code",
   "execution_count": null,
   "metadata": {},
   "outputs": [],
   "source": [
    "# Discover missing data points within dataset\n",
    "data_nulls = teleco.isnull().sum()\n",
    "print(data_nulls)"
   ]
  },
  {
   "cell_type": "code",
   "execution_count": null,
   "metadata": {},
   "outputs": [],
   "source": [
    "# Check for missing data & visualize missing values in dataset \n",
    "\n",
    "# Install appropriate library\n",
    "!pip install missingno\n",
    "\n",
    "# Importing the libraries\n",
    "import missingno as msno\n",
    "\n",
    "# Visualize missing values as a matrix\n",
    "msno.matrix(teleco);\n",
    "\"\"\"(GeeksForGeeks, p. 1)\"\"\""
   ]
  },
  {
   "cell_type": "code",
   "execution_count": null,
   "metadata": {},
   "outputs": [],
   "source": [
    "# Drop records with missing values\n",
    "teleco.dropna(how='all', inplace=True)\n",
    "\n",
    "# Review changes\n",
    "teleco.head()"
   ]
  },
  {
   "cell_type": "code",
   "execution_count": null,
   "metadata": {},
   "outputs": [],
   "source": [
    "# Replace empty values with 0\n",
    "teleco.fillna(0, inplace=True)"
   ]
  },
  {
   "cell_type": "code",
   "execution_count": null,
   "metadata": {},
   "outputs": [],
   "source": [
    "# Get an idea of dataset size after changes\n",
    "teleco.shape"
   ]
  },
  {
   "cell_type": "code",
   "execution_count": null,
   "metadata": {},
   "outputs": [],
   "source": [
    "# Review changes to DataFrame\n",
    "teleco.head()"
   ]
  },
  {
   "cell_type": "code",
   "execution_count": null,
   "metadata": {},
   "outputs": [],
   "source": [
    "# Confirm no null values\n",
    "teleco.info()"
   ]
  },
  {
   "cell_type": "code",
   "execution_count": null,
   "metadata": {},
   "outputs": [],
   "source": [
    "# Convert dataset into list format for use with Apriori algorithm\n",
    "teleco_list = []\n",
    "for i in range(0, 7501):\n",
    "    teleco_list.append([str(teleco.values[i, j]) for j in range(0, 20)])\n",
    "teleco_cleaned = pd.DataFrame(teleco_list)"
   ]
  },
  {
   "cell_type": "code",
   "execution_count": null,
   "metadata": {},
   "outputs": [],
   "source": [
    "# Review DataFrame\n",
    "teleco_cleaned.head()"
   ]
  },
  {
   "cell_type": "code",
   "execution_count": null,
   "metadata": {},
   "outputs": [],
   "source": [
    "# Extract prepared dataset\n",
    "teleco_cleaned.to_csv('data/teleco_market_basket_prepared.csv')"
   ]
  },
  {
   "cell_type": "code",
   "execution_count": null,
   "metadata": {},
   "outputs": [],
   "source": [
    "teleco_list[:1]"
   ]
  },
  {
   "cell_type": "markdown",
   "metadata": {},
   "source": [
    "#### <span style=\"color:green\"><b>C2. Code Execution</b>:</span>"
   ]
  },
  {
   "cell_type": "code",
   "execution_count": null,
   "metadata": {},
   "outputs": [],
   "source": [
    "# Generate association rules from Apriori algorithm\n",
    "from apyori import apriori\n",
    "\n",
    "# Train Apriori algorithm on the dataset\n",
    "rule_list = apriori(teleco_list, min_support = 0.003, min_confidence = 0.3, min_lift = 3, min_length = 2)"
   ]
  },
  {
   "cell_type": "code",
   "execution_count": null,
   "metadata": {},
   "outputs": [],
   "source": [
    "# Review generate rules\n",
    "rule_list = list(rule_list)\n",
    "print(rule_list[0])"
   ]
  },
  {
   "cell_type": "code",
   "execution_count": null,
   "metadata": {},
   "outputs": [],
   "source": [
    "# Print number of rules\n",
    "print(len(rule_list))"
   ]
  },
  {
   "cell_type": "code",
   "execution_count": null,
   "metadata": {},
   "outputs": [],
   "source": [
    "# Transform results into DataFrame structure\n",
    "results = pd.DataFrame(rule_list)"
   ]
  },
  {
   "cell_type": "code",
   "execution_count": null,
   "metadata": {},
   "outputs": [],
   "source": [
    "# View results list\n",
    "results"
   ]
  },
  {
   "cell_type": "code",
   "execution_count": null,
   "metadata": {},
   "outputs": [],
   "source": [
    "# Separate support to indiviual DataFrame\n",
    "support = results.support"
   ]
  },
  {
   "cell_type": "code",
   "execution_count": null,
   "metadata": {},
   "outputs": [],
   "source": [
    "# Instantiate four empty lists to contain lhs, rhs, confidence and lift\n",
    "first_values = []\n",
    "second_values = []\n",
    "third_values = []\n",
    "fourth_values = []"
   ]
  },
  {
   "cell_type": "code",
   "execution_count": null,
   "metadata": {},
   "outputs": [],
   "source": [
    "# Create for loop to iterate over list \n",
    "for i in range(results.shape[0]):\n",
    "    single_list = results['ordered_statistics'][i][0]\n",
    "    first_values.append(list(single_list[0]))\n",
    "    second_values.append(list(single_list[1]))\n",
    "    third_values.append(single_list[2])\n",
    "    fourth_values.append(single_list[3])"
   ]
  },
  {
   "cell_type": "code",
   "execution_count": null,
   "metadata": {},
   "outputs": [],
   "source": [
    "# Convert lists into DataFrame\n",
    "lhs = pd.DataFrame(first_values)\n",
    "rhs = pd.DataFrame(second_values)\n",
    "confidence = pd.DataFrame(third_values, columns=['confidence'])\n",
    "lift = pd.DataFrame(fourth_values, columns=['lift'])"
   ]
  },
  {
   "cell_type": "code",
   "execution_count": null,
   "metadata": {},
   "outputs": [],
   "source": [
    "# Concatenate lists into single DataFrame\n",
    "results_final = pd.concat([lhs, rhs, support, confidence, lift], axis=1)\n",
    "results_final.fillna(value=' ', inplace=True)"
   ]
  },
  {
   "cell_type": "code",
   "execution_count": null,
   "metadata": {},
   "outputs": [],
   "source": [
    "# View final results\n",
    "results_final"
   ]
  },
  {
   "cell_type": "markdown",
   "metadata": {},
   "source": [
    "#### <span style=\"color:green\"><b>C3. Association Rules Table</b>:</span>"
   ]
  },
  {
   "cell_type": "code",
   "execution_count": null,
   "metadata": {},
   "outputs": [],
   "source": [
    "# Set column names\n",
    "results_final.columns = ['lhs', 1, 2, 'rhs', 1, 2, 'support', 'confidence', 'lift']\n",
    "results_final_1 = results_final[['lhs', 'rhs', 'support', 'confidence', 'lift']]\n",
    "results_final_1"
   ]
  },
  {
   "cell_type": "markdown",
   "metadata": {},
   "source": [
    "#### Highest combination of Support, Confidence and LIft\n",
    "After running the final results to create the association rules table, we can demonstate mathematically that \"5pack Nylon Braided USB C cables\" and \"HP 63XL Ink\" have the highest combination of values for our three metrics:\n",
    "\n",
    "For \"5pack Nylon Braided USB C cables\" &#10230; \"HP 63XL Ink\"\n",
    "* Support = 0.0057\n",
    "* Confidence = 0.3007\n",
    "* Lift = 3.7908\n"
   ]
  },
  {
   "cell_type": "code",
   "execution_count": null,
   "metadata": {},
   "outputs": [],
   "source": [
    "# Visualize the list of rules\n",
    "results = list(rule_list)\n",
    "for i in results:\n",
    "    print('\\n')\n",
    "    print(i)\n",
    "    print('**********')"
   ]
  },
  {
   "cell_type": "markdown",
   "metadata": {},
   "source": [
    "#### <span style=\"color:green\"><b>C4. Top Three Rules</b>:</span>\n",
    "The top three rules are as follow:\n",
    "\n",
    "#1. If \"5pack Nylon Braided USB C cables\" then \"HP 63XL Ink\" with:\n",
    "* Support = 0.0057\n",
    "* Confidence = 0.3007 = 30%\n",
    "* Lift = 3.7908\n",
    "<br>Our confidence in this rule demonstrates that out of all customers who purchased the \"5pack Nylon Braided USB C cables\", 30% also purchased the \"HP 63XL Ink\".\n",
    "The simplest metric of support, with a value of 0.0057, demonstrates that a little more than half a percentage of all transactions contain both items.\n",
    "A lift value of 3.7908 demonstrates that once a customer has purchased the \"5pack Nylon Braided USB C cables\", they are 3.8 times more likely to also purchase the \"HP 63XL Ink\".\n",
    "<br><br>\n",
    "#2. If \"AutoFocus 1080p Webcam\" then \"SanDisk Ultra 64GB card\" with:\n",
    "* Support = 0.0053\n",
    "* Confidence = 0.3774 = 38% of customers also purchased consequent\n",
    "* Lift = 3.8407 = 3.8 times more likely to purchase consequent following purchase of antecedent\n",
    "<br><br>\n",
    "#3. If \"iPhone 11 case\" then \"HP 63XL Ink\" with:\n",
    "* Support = 0.0051\n",
    "* Confidence = 0.3729 = 37% of customers also purchased consequent\n",
    "* Lift = 4.7008 = 4.7 times more likely to purchase consequent following purchase of antecedent"
   ]
  },
  {
   "cell_type": "markdown",
   "metadata": {},
   "source": [
    "#### Part IV: Analysis"
   ]
  },
  {
   "cell_type": "markdown",
   "metadata": {},
   "source": [
    "#### <span style=\"color:green\"><b>D1. Significance of Support, Lift, and Confidence Summary</b></span>\n",
    "Our top three rules compare the metrics:\n",
    "* $ Support = \\frac {frequency (X, Y)}{N} $\n",
    "&ensp; &#10233; &ensp; Giving us the number of total transactions containing this particular itemset.\n",
    "* $ Confidence = \\frac {frequency (X, Y)}{frequency(X)} $\n",
    "&ensp; &#10233; &ensp; Giving us a probability of the consequent given the antecedent.\n",
    "* $ Lift = \\frac {Support}{Support(X) * Support(Y)} $\n",
    "&ensp; &#10233; &ensp; Giving us the coefficient of likelihood given the antecedent; that is, how many more times likely is the consequent to be purchased once the antecedent has been purchased.\n",
    "<br><br>\n",
    "The results of this analysis are not particularly compelling.  None of the rules have a confidence level of greater than 40% and certainly not the greater than 80% which would be an optimal value for signifcances.\n",
    "<br>\n",
    "Our highest <b>confidence</b> is in rule #2 at 38%, while the #1 rule (given its analysis in combination with our other metrics of interest) is only 30%.\n",
    "<br>\n",
    "The <b>support</b> for the pairing of any of the given top three rules' itemsets does not occur in more than half a percentage point of all transactions, and, again, is not compelling.\n",
    "<br>\n",
    "Finally, the <b>lift</b> ratio gives us some hope that once a customer has purchased the antecedent item they will also purchase the consequent item.  Our highest lift metric at \"4.7 times more likely\" is demonstrated by the relationship between purchasing an \"iPhone 11 case\" and then purchasing some \"HP 63XL Ink\".  "
   ]
  },
  {
   "cell_type": "markdown",
   "metadata": {},
   "source": [
    "#### <span style=\"color:green\"><b>D2. Practical Significance of Findings</b></span>\n",
    "We do not find that these results contain very much practical significance as we really cannot be confident that any itemset will be purchased even half of the time.  We have a greater chance of predicting the outcome of a coin flip, now, do we not?  We can see that if one of the antecedents is selected for purchase, say a webcam, it is about 4 times more likely that the customer will also purchase the consequent, say a memory card.  \n",
    "<br>So, for example, if that half a percentage point of people pick up a 5 pack of USB cables, they are nearly 4 times as likely to pickup some HP ink for the printer.  \n",
    "<br>These results really do not give us much to go on.\n",
    "Perhaps we need together more data before suggesting any significance.  And, of course, further analysis is recommended."
   ]
  },
  {
   "cell_type": "markdown",
   "metadata": {},
   "source": [
    "#### <span style=\"color:green\"><b>D3. Course of Action</b></span>\n",
    "Therefore, based on the previous analysis and commentary of significance, we do not recommend company decision makers move forward with the original plan of promoting our service by discounted or, even, giving away free items for subscribing to our telecom service.  Not only did we not find any significance in our market basket analysis of this transaction dataset, none of the pairings suggested customers who used telecom services would like or need some consequent item. \n",
    "<br><br>\n",
    "That is, if we had found a significant relationship with say, many transactions where customers purchased two related telecommunications peripherals, we might suggest one of those items for potential customer discount and a marketing promotion.  We did not find that.  We found ink being purchased when, perhaps we might be looking for a relationship where both a webcam and ethernet cable were purchased at the same time.  \n",
    "<br>\n",
    "No action is warranted at this time.  More data needs to be gathered and analyzed before confident action can be recommended by our data science team."
   ]
  },
  {
   "cell_type": "markdown",
   "metadata": {},
   "source": [
    "#### <span style=\"color:green\"><b>E. Panopto Recording</b></span>\n",
    " <span style=\"color:red\">link</span>"
   ]
  },
  {
   "cell_type": "markdown",
   "metadata": {},
   "source": [
    "#### <span style=\"color:green\"><b>F. Web Sources</b></span>\n",
    "* GeeksForGeeks. &ensp; (2019, July 4). &ensp; <i>Python | Visualize missing values (NaN) values using Missingno Library</i>. &ensp; GeeksForGeeks. &ensp; https://www.geeksforgeeks.org/python-visualize-missing-values-nan-values-using-missingno-library/\n",
    "<br>\n",
    "* Gupta, A. &ensp; (2021). &ensp; <i>Implementing Apriori algorithm in Python</i>. &ensp; GeeksForGeeks. &ensp; https://www.geeksforgeeks.org/implementing-apriori-algorithm-in-python/\n",
    "<br>\n",
    "* Kumar, V. &ensp; (2020, May 11). &ensp; <i>Hands-On Guide To Market Basket Analysis With Python Codes</i>. &ensp; AnalyticsIndiaMag.com. &ensp; https://analyticsindiamag.com/hands-on-guide-to-market-basket-analysis-with-python-codes/\n",
    "Intellipaat. (2021). Introduction to Apriori Algorithm in Python. https://intellipaat.com/blog/data-science-apriori-algorithm/\n",
    "<br>\n",
    "* Umredkar, R. &ensp; (2020, November 30). &ensp; <i>Guide To Association Rule Mining From Scratch</i>. &ensp; AnalyticsIndiaMag.com. &ensp;  https://analyticsindiamag.com/guide-to-association-rule-mining-from-scratch/\n",
    "<br>\n",
    "* Yogesh. &ensp; (2018). &ensp; <i>Market Basket Analysis (Apriori) in Python</i>. &ensp; Kaggle. &ensp; https://www.kaggle.com/yugagrawal95/market-basket-analysis-apriori-in-python\n"
   ]
  },
  {
   "cell_type": "markdown",
   "metadata": {},
   "source": [
    "#### <span style=\"color:green\"><b>G. Sources</b></span>\n",
    "* Li, S. &ensp; (2017, September 24). &ensp; <i>A Gentle Introduction on Market Basket Analysis — Association Rules</i>. &ensp; TowardsDataScience. &ensp; https://towardsdatascience.com/a-gentle-introduction-on-market-basket-analysis-association-rules-fa4b986a40ce\n",
    "<br>\n",
    "* Sivek, S. &ensp; (2020, November 16). &ensp; <i>Market Basket Analysis 101: Key Concepts</i>. &ensp; TowardsDataScience. &ensp; https://towardsdatascience.com/market-basket-analysis-101-key-concepts-1ddc6876cd00"
   ]
  }
 ],
 "metadata": {
  "kernelspec": {
   "display_name": "Python 3",
   "language": "python",
   "name": "python3"
  },
  "language_info": {
   "codemirror_mode": {
    "name": "ipython",
    "version": 3
   },
   "file_extension": ".py",
   "mimetype": "text/x-python",
   "name": "python",
   "nbconvert_exporter": "python",
   "pygments_lexer": "ipython3",
   "version": "3.7.6"
  },
  "varInspector": {
   "cols": {
    "lenName": 16,
    "lenType": 16,
    "lenVar": 40
   },
   "kernels_config": {
    "python": {
     "delete_cmd_postfix": "",
     "delete_cmd_prefix": "del ",
     "library": "var_list.py",
     "varRefreshCmd": "print(var_dic_list())"
    },
    "r": {
     "delete_cmd_postfix": ") ",
     "delete_cmd_prefix": "rm(",
     "library": "var_list.r",
     "varRefreshCmd": "cat(var_dic_list()) "
    }
   },
   "types_to_exclude": [
    "module",
    "function",
    "builtin_function_or_method",
    "instance",
    "_Feature"
   ],
   "window_display": false
  }
 },
 "nbformat": 4,
 "nbformat_minor": 4
}
